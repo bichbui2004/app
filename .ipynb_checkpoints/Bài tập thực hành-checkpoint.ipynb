{
 "cells": [
  {
   "cell_type": "markdown",
   "metadata": {},
   "source": [
    "## Đọc và quan sát dữ liệu"
   ]
  },
  {
   "cell_type": "code",
   "execution_count": 35,
   "metadata": {},
   "outputs": [
    {
     "name": "stdout",
     "output_type": "stream",
     "text": [
      "<class 'pandas.core.frame.DataFrame'>\n",
      "RangeIndex: 361 entries, 0 to 360\n",
      "Data columns (total 17 columns):\n",
      " #   Column                        Non-Null Count  Dtype  \n",
      "---  ------                        --------------  -----  \n",
      " 0   Month                         361 non-null    object \n",
      " 1   Coarse wool Price             327 non-null    object \n",
      " 2   Coarse wool price % Change    327 non-null    object \n",
      " 3   Copra Price                   339 non-null    object \n",
      " 4   Copra price % Change          339 non-null    object \n",
      " 5   Cotton Price                  361 non-null    float64\n",
      " 6   Cotton price % Change         361 non-null    object \n",
      " 7   Fine wool Price               327 non-null    object \n",
      " 8   Fine wool price % Change      327 non-null    object \n",
      " 9   Hard log Price                361 non-null    float64\n",
      " 10  Hard log price % Change       361 non-null    object \n",
      " 11  Hard sawnwood Price           327 non-null    float64\n",
      " 12  Hard sawnwood price % Change  327 non-null    object \n",
      " 13  Hide Price                    327 non-null    float64\n",
      " 14  Hide price % change           327 non-null    object \n",
      " 15  Rubber Price                  361 non-null    float64\n",
      " 16  Rubber price % Change         361 non-null    object \n",
      "dtypes: float64(5), object(12)\n",
      "memory usage: 48.1+ KB\n"
     ]
    }
   ],
   "source": [
    "#Đọc file dữ liệu\n",
    "import pandas as pd\n",
    "data = pd.read_csv(r\"C:\\Users\\PC\\Documents\\Khai phá dữ liệu\\Data chương 2\\agricultural_raw_material.csv\")\n",
    "data.info()"
   ]
  },
  {
   "cell_type": "code",
   "execution_count": 36,
   "metadata": {},
   "outputs": [
    {
     "name": "stdout",
     "output_type": "stream",
     "text": [
      "    Month Coarse wool Price Coarse wool price % Change Copra Price  \\\n",
      "0  Apr-90            482.34                          -         236   \n",
      "1  May-90            447.26                     -7.27%         234   \n",
      "2  Jun-90            440.99                     -1.40%         216   \n",
      "3  Jul-90            418.44                     -5.11%         205   \n",
      "4  Aug-90            418.44                      0.00%         198   \n",
      "\n",
      "  Copra price % Change  Cotton Price Cotton price % Change Fine wool Price  \\\n",
      "0                    -          1.83                     -        1,071.63   \n",
      "1               -0.85%          1.89                 3.28%        1,057.18   \n",
      "2               -7.69%          1.99                 5.29%          898.24   \n",
      "3               -5.09%          2.01                 1.01%          895.83   \n",
      "4               -3.41%          1.79               -10.95%          951.22   \n",
      "\n",
      "  Fine wool price % Change  Hard log Price Hard log price % Change  \\\n",
      "0                        -          161.20                       -   \n",
      "1                   -1.35%          172.86                   7.23%   \n",
      "2                  -15.03%          181.67                   5.10%   \n",
      "3                   -0.27%          187.96                   3.46%   \n",
      "4                    6.18%          186.13                  -0.97%   \n",
      "\n",
      "   Hard sawnwood Price Hard sawnwood price % Change  Hide Price  \\\n",
      "0               549.91                            -      100.00   \n",
      "1               491.88                      -10.55%       99.46   \n",
      "2               495.39                        0.71%       97.90   \n",
      "3               485.86                       -1.92%       96.75   \n",
      "4               487.52                        0.34%       91.89   \n",
      "\n",
      "  Hide price % change  Rubber Price Rubber price % Change  \n",
      "0                   -          0.84                     -  \n",
      "1              -0.54%          0.85                 1.19%  \n",
      "2              -1.57%          0.85                 0.00%  \n",
      "3              -1.17%          0.86                 1.18%  \n",
      "4              -5.02%          0.88                 2.33%  \n"
     ]
    }
   ],
   "source": [
    "print(data.head())"
   ]
  },
  {
   "cell_type": "markdown",
   "metadata": {},
   "source": [
    "## Chuẩn bị và tiền xử lý dữ liệu"
   ]
  },
  {
   "cell_type": "markdown",
   "metadata": {},
   "source": [
    "**Chuẩn hóa dữ liệu cột Month**"
   ]
  },
  {
   "cell_type": "code",
   "execution_count": 37,
   "metadata": {},
   "outputs": [
    {
     "name": "stdout",
     "output_type": "stream",
     "text": [
      "    Month Coarse wool Price Coarse wool price % Change Copra Price  \\\n",
      "0  Apr-90            482.34                          -         236   \n",
      "1  May-90            447.26                     -7.27%         234   \n",
      "2  Jun-90            440.99                     -1.40%         216   \n",
      "3  Jul-90            418.44                     -5.11%         205   \n",
      "4  Aug-90            418.44                      0.00%         198   \n",
      "\n",
      "  Copra price % Change  Cotton Price Cotton price % Change Fine wool Price  \\\n",
      "0                    -          1.83                     -        1,071.63   \n",
      "1               -0.85%          1.89                 3.28%        1,057.18   \n",
      "2               -7.69%          1.99                 5.29%          898.24   \n",
      "3               -5.09%          2.01                 1.01%          895.83   \n",
      "4               -3.41%          1.79               -10.95%          951.22   \n",
      "\n",
      "  Fine wool price % Change  Hard log Price Hard log price % Change  \\\n",
      "0                        -          161.20                       -   \n",
      "1                   -1.35%          172.86                   7.23%   \n",
      "2                  -15.03%          181.67                   5.10%   \n",
      "3                   -0.27%          187.96                   3.46%   \n",
      "4                    6.18%          186.13                  -0.97%   \n",
      "\n",
      "   Hard sawnwood Price Hard sawnwood price % Change  Hide Price  \\\n",
      "0               549.91                            -      100.00   \n",
      "1               491.88                      -10.55%       99.46   \n",
      "2               495.39                        0.71%       97.90   \n",
      "3               485.86                       -1.92%       96.75   \n",
      "4               487.52                        0.34%       91.89   \n",
      "\n",
      "  Hide price % change  Rubber Price Rubber price % Change month  year  \n",
      "0                   -          0.84                     -   Apr    90  \n",
      "1              -0.54%          0.85                 1.19%   May    90  \n",
      "2              -1.57%          0.85                 0.00%   Jun    90  \n",
      "3              -1.17%          0.86                 1.18%   Jul    90  \n",
      "4              -5.02%          0.88                 2.33%   Aug    90  \n"
     ]
    }
   ],
   "source": [
    "#Tách dl trong cột Month\n",
    "data['month'] = [str(s.split('-')[0]) for s in data['Month']]\n",
    "data['year'] = [str(s.split('-')[1]) for s in data['Month']]\n",
    "data['year'] = data['year'].astype(int)\n",
    "print(data.head())"
   ]
  },
  {
   "cell_type": "code",
   "execution_count": 38,
   "metadata": {},
   "outputs": [
    {
     "name": "stdout",
     "output_type": "stream",
     "text": [
      "    Month Coarse wool Price Coarse wool price % Change Copra Price  \\\n",
      "0  Apr-90            482.34                          -         236   \n",
      "1  May-90            447.26                     -7.27%         234   \n",
      "2  Jun-90            440.99                     -1.40%         216   \n",
      "3  Jul-90            418.44                     -5.11%         205   \n",
      "4  Aug-90            418.44                      0.00%         198   \n",
      "\n",
      "  Copra price % Change  Cotton Price Cotton price % Change Fine wool Price  \\\n",
      "0                    -          1.83                     -        1,071.63   \n",
      "1               -0.85%          1.89                 3.28%        1,057.18   \n",
      "2               -7.69%          1.99                 5.29%          898.24   \n",
      "3               -5.09%          2.01                 1.01%          895.83   \n",
      "4               -3.41%          1.79               -10.95%          951.22   \n",
      "\n",
      "  Fine wool price % Change  Hard log Price Hard log price % Change  \\\n",
      "0                        -          161.20                       -   \n",
      "1                   -1.35%          172.86                   7.23%   \n",
      "2                  -15.03%          181.67                   5.10%   \n",
      "3                   -0.27%          187.96                   3.46%   \n",
      "4                    6.18%          186.13                  -0.97%   \n",
      "\n",
      "   Hard sawnwood Price Hard sawnwood price % Change  Hide Price  \\\n",
      "0               549.91                            -      100.00   \n",
      "1               491.88                      -10.55%       99.46   \n",
      "2               495.39                        0.71%       97.90   \n",
      "3               485.86                       -1.92%       96.75   \n",
      "4               487.52                        0.34%       91.89   \n",
      "\n",
      "  Hide price % change  Rubber Price Rubber price % Change month  year  \n",
      "0                   -          0.84                     -   Apr  1990  \n",
      "1              -0.54%          0.85                 1.19%   May  1990  \n",
      "2              -1.57%          0.85                 0.00%   Jun  1990  \n",
      "3              -1.17%          0.86                 1.18%   Jul  1990  \n",
      "4              -5.02%          0.88                 2.33%   Aug  1990  \n"
     ]
    }
   ],
   "source": [
    "#Chuyển year về dạng yyyy\n",
    "data['year'] = [2000+i if i <89 else 1900+i for i in data['year']]\n",
    "print(data.head())"
   ]
  },
  {
   "cell_type": "code",
   "execution_count": 39,
   "metadata": {},
   "outputs": [
    {
     "name": "stdout",
     "output_type": "stream",
     "text": [
      "      Month Coarse wool Price Coarse wool price % Change Copra Price  \\\n",
      "356  Dec-19               NaN                        NaN         NaN   \n",
      "357  Jan-20               NaN                        NaN         NaN   \n",
      "358  Feb-20               NaN                        NaN         NaN   \n",
      "359  Mar-20               NaN                        NaN         NaN   \n",
      "360  Apr-20               NaN                        NaN         NaN   \n",
      "\n",
      "    Copra price % Change  Cotton Price Cotton price % Change Fine wool Price  \\\n",
      "356                  NaN          1.67                 1.21%             NaN   \n",
      "357                  NaN          1.74                 4.19%             NaN   \n",
      "358                  NaN          1.69                -2.87%             NaN   \n",
      "359                  NaN          1.49               -11.83%             NaN   \n",
      "360                  NaN          1.40                -6.04%             NaN   \n",
      "\n",
      "    Fine wool price % Change  Hard log Price Hard log price % Change  \\\n",
      "356                      NaN          272.80                  -0.22%   \n",
      "357                      NaN          272.40                  -0.15%   \n",
      "358                      NaN          270.56                  -0.68%   \n",
      "359                      NaN          276.93                   2.35%   \n",
      "360                      NaN          276.24                  -0.25%   \n",
      "\n",
      "     Hard sawnwood Price Hard sawnwood price % Change  Hide Price  \\\n",
      "356                  NaN                          NaN         NaN   \n",
      "357                  NaN                          NaN         NaN   \n",
      "358                  NaN                          NaN         NaN   \n",
      "359                  NaN                          NaN         NaN   \n",
      "360                  NaN                          NaN         NaN   \n",
      "\n",
      "    Hide price % change  Rubber Price Rubber price % Change month  year  \n",
      "356                 NaN          1.66                 7.79%   Dec  2019  \n",
      "357                 NaN          1.68                 1.20%   Jan  2020  \n",
      "358                 NaN          1.61                -4.17%   Feb  2020  \n",
      "359                 NaN          1.50                -6.83%   Mar  2020  \n",
      "360                 NaN          1.33               -11.33%   Apr  2020  \n"
     ]
    }
   ],
   "source": [
    "print(data.tail())"
   ]
  },
  {
   "cell_type": "code",
   "execution_count": 40,
   "metadata": {},
   "outputs": [
    {
     "data": {
      "text/plain": [
       "Apr    31\n",
       "May    30\n",
       "Jun    30\n",
       "Jul    30\n",
       "Aug    30\n",
       "Sep    30\n",
       "Oct    30\n",
       "Nov    30\n",
       "Dec    30\n",
       "Jan    30\n",
       "Feb    30\n",
       "Mar    30\n",
       "Name: month, dtype: int64"
      ]
     },
     "execution_count": 40,
     "metadata": {},
     "output_type": "execute_result"
    }
   ],
   "source": [
    "data['month'].value_counts()"
   ]
  },
  {
   "cell_type": "code",
   "execution_count": 41,
   "metadata": {},
   "outputs": [
    {
     "name": "stdout",
     "output_type": "stream",
     "text": [
      "    Month Coarse wool Price Coarse wool price % Change Copra Price  \\\n",
      "0  Apr-90            482.34                          -         236   \n",
      "1  May-90            447.26                     -7.27%         234   \n",
      "2  Jun-90            440.99                     -1.40%         216   \n",
      "3  Jul-90            418.44                     -5.11%         205   \n",
      "4  Aug-90            418.44                      0.00%         198   \n",
      "\n",
      "  Copra price % Change  Cotton Price Cotton price % Change Fine wool Price  \\\n",
      "0                    -          1.83                     -        1,071.63   \n",
      "1               -0.85%          1.89                 3.28%        1,057.18   \n",
      "2               -7.69%          1.99                 5.29%          898.24   \n",
      "3               -5.09%          2.01                 1.01%          895.83   \n",
      "4               -3.41%          1.79               -10.95%          951.22   \n",
      "\n",
      "  Fine wool price % Change  Hard log Price Hard log price % Change  \\\n",
      "0                        -          161.20                       -   \n",
      "1                   -1.35%          172.86                   7.23%   \n",
      "2                  -15.03%          181.67                   5.10%   \n",
      "3                   -0.27%          187.96                   3.46%   \n",
      "4                    6.18%          186.13                  -0.97%   \n",
      "\n",
      "   Hard sawnwood Price Hard sawnwood price % Change  Hide Price  \\\n",
      "0               549.91                            -      100.00   \n",
      "1               491.88                      -10.55%       99.46   \n",
      "2               495.39                        0.71%       97.90   \n",
      "3               485.86                       -1.92%       96.75   \n",
      "4               487.52                        0.34%       91.89   \n",
      "\n",
      "  Hide price % change  Rubber Price Rubber price % Change  month  year  \n",
      "0                   -          0.84                     -      4  1990  \n",
      "1              -0.54%          0.85                 1.19%      5  1990  \n",
      "2              -1.57%          0.85                 0.00%      6  1990  \n",
      "3              -1.17%          0.86                 1.18%      7  1990  \n",
      "4              -5.02%          0.88                 2.33%      8  1990  \n"
     ]
    }
   ],
   "source": [
    "#Chuyển các tháng thành số\n",
    "mapping = {'Jan':1, 'Feb':2, 'Mar':3, 'Apr':4, 'May':5, 'Jun':6, 'Jul':7, 'Aug':8, 'Sep':9, 'Oct':10, 'Nov':11, 'Dec':12}\n",
    "data['month'] = data['month'].map(mapping).astype('int16')\n",
    "print(data.head())"
   ]
  },
  {
   "cell_type": "code",
   "execution_count": 42,
   "metadata": {},
   "outputs": [
    {
     "name": "stdout",
     "output_type": "stream",
     "text": [
      "<class 'pandas.core.frame.DataFrame'>\n",
      "RangeIndex: 361 entries, 0 to 360\n",
      "Data columns (total 19 columns):\n",
      " #   Column                        Non-Null Count  Dtype  \n",
      "---  ------                        --------------  -----  \n",
      " 0   Month                         361 non-null    object \n",
      " 1   Coarse wool Price             327 non-null    object \n",
      " 2   Coarse wool price % Change    327 non-null    object \n",
      " 3   Copra Price                   339 non-null    object \n",
      " 4   Copra price % Change          339 non-null    object \n",
      " 5   Cotton Price                  361 non-null    float64\n",
      " 6   Cotton price % Change         361 non-null    object \n",
      " 7   Fine wool Price               327 non-null    object \n",
      " 8   Fine wool price % Change      327 non-null    object \n",
      " 9   Hard log Price                361 non-null    float64\n",
      " 10  Hard log price % Change       361 non-null    object \n",
      " 11  Hard sawnwood Price           327 non-null    float64\n",
      " 12  Hard sawnwood price % Change  327 non-null    object \n",
      " 13  Hide Price                    327 non-null    float64\n",
      " 14  Hide price % change           327 non-null    object \n",
      " 15  Rubber Price                  361 non-null    float64\n",
      " 16  Rubber price % Change         361 non-null    object \n",
      " 17  month                         361 non-null    int16  \n",
      " 18  year                          361 non-null    int64  \n",
      "dtypes: float64(5), int16(1), int64(1), object(12)\n",
      "memory usage: 51.6+ KB\n"
     ]
    }
   ],
   "source": [
    "data.info()"
   ]
  },
  {
   "cell_type": "code",
   "execution_count": 43,
   "metadata": {},
   "outputs": [
    {
     "name": "stdout",
     "output_type": "stream",
     "text": [
      "    Month Coarse wool Price Coarse wool price % Change Copra Price  \\\n",
      "0  Apr-90            482.34                          -         236   \n",
      "1  May-90            447.26                     -7.27%         234   \n",
      "2  Jun-90            440.99                     -1.40%         216   \n",
      "3  Jul-90            418.44                     -5.11%         205   \n",
      "4  Aug-90            418.44                      0.00%         198   \n",
      "\n",
      "  Copra price % Change  Cotton Price Cotton price % Change Fine wool Price  \\\n",
      "0                    -          1.83                     -        1,071.63   \n",
      "1               -0.85%          1.89                 3.28%        1,057.18   \n",
      "2               -7.69%          1.99                 5.29%          898.24   \n",
      "3               -5.09%          2.01                 1.01%          895.83   \n",
      "4               -3.41%          1.79               -10.95%          951.22   \n",
      "\n",
      "  Fine wool price % Change  Hard log Price Hard log price % Change  \\\n",
      "0                        -          161.20                       -   \n",
      "1                   -1.35%          172.86                   7.23%   \n",
      "2                  -15.03%          181.67                   5.10%   \n",
      "3                   -0.27%          187.96                   3.46%   \n",
      "4                    6.18%          186.13                  -0.97%   \n",
      "\n",
      "   Hard sawnwood Price Hard sawnwood price % Change  Hide Price  \\\n",
      "0               549.91                            -      100.00   \n",
      "1               491.88                      -10.55%       99.46   \n",
      "2               495.39                        0.71%       97.90   \n",
      "3               485.86                       -1.92%       96.75   \n",
      "4               487.52                        0.34%       91.89   \n",
      "\n",
      "  Hide price % change  Rubber Price Rubber price % Change  month  year  \\\n",
      "0                   -          0.84                     -      4  1990   \n",
      "1              -0.54%          0.85                 1.19%      5  1990   \n",
      "2              -1.57%          0.85                 0.00%      6  1990   \n",
      "3              -1.17%          0.86                 1.18%      7  1990   \n",
      "4              -5.02%          0.88                 2.33%      8  1990   \n",
      "\n",
      "        Date  \n",
      "0 1990-04-01  \n",
      "1 1990-05-01  \n",
      "2 1990-06-01  \n",
      "3 1990-07-01  \n",
      "4 1990-08-01  \n"
     ]
    }
   ],
   "source": [
    "#Ghép cột month và year\n",
    "data['Date'] = [str(y)+ '-' + str(m) for y, m in zip(data['year'], data['month'])]\n",
    "data['Date'] = pd.to_datetime(data['Date'])\n",
    "print(data.head())"
   ]
  },
  {
   "cell_type": "code",
   "execution_count": 44,
   "metadata": {},
   "outputs": [
    {
     "name": "stdout",
     "output_type": "stream",
     "text": [
      "           Coarse wool Price Coarse wool price % Change Copra Price  \\\n",
      "Date                                                                  \n",
      "1990-04-01            482.34                          -         236   \n",
      "1990-05-01            447.26                     -7.27%         234   \n",
      "1990-06-01            440.99                     -1.40%         216   \n",
      "1990-07-01            418.44                     -5.11%         205   \n",
      "1990-08-01            418.44                      0.00%         198   \n",
      "\n",
      "           Copra price % Change  Cotton Price Cotton price % Change  \\\n",
      "Date                                                                  \n",
      "1990-04-01                    -          1.83                     -   \n",
      "1990-05-01               -0.85%          1.89                 3.28%   \n",
      "1990-06-01               -7.69%          1.99                 5.29%   \n",
      "1990-07-01               -5.09%          2.01                 1.01%   \n",
      "1990-08-01               -3.41%          1.79               -10.95%   \n",
      "\n",
      "           Fine wool Price Fine wool price % Change  Hard log Price  \\\n",
      "Date                                                                  \n",
      "1990-04-01        1,071.63                        -          161.20   \n",
      "1990-05-01        1,057.18                   -1.35%          172.86   \n",
      "1990-06-01          898.24                  -15.03%          181.67   \n",
      "1990-07-01          895.83                   -0.27%          187.96   \n",
      "1990-08-01          951.22                    6.18%          186.13   \n",
      "\n",
      "           Hard log price % Change  Hard sawnwood Price  \\\n",
      "Date                                                      \n",
      "1990-04-01                       -               549.91   \n",
      "1990-05-01                   7.23%               491.88   \n",
      "1990-06-01                   5.10%               495.39   \n",
      "1990-07-01                   3.46%               485.86   \n",
      "1990-08-01                  -0.97%               487.52   \n",
      "\n",
      "           Hard sawnwood price % Change  Hide Price Hide price % change  \\\n",
      "Date                                                                      \n",
      "1990-04-01                            -      100.00                   -   \n",
      "1990-05-01                      -10.55%       99.46              -0.54%   \n",
      "1990-06-01                        0.71%       97.90              -1.57%   \n",
      "1990-07-01                       -1.92%       96.75              -1.17%   \n",
      "1990-08-01                        0.34%       91.89              -5.02%   \n",
      "\n",
      "            Rubber Price Rubber price % Change  \n",
      "Date                                            \n",
      "1990-04-01          0.84                     -  \n",
      "1990-05-01          0.85                 1.19%  \n",
      "1990-06-01          0.85                 0.00%  \n",
      "1990-07-01          0.86                 1.18%  \n",
      "1990-08-01          0.88                 2.33%  \n"
     ]
    }
   ],
   "source": [
    "data.drop(['Month','year','month'], axis = 1, inplace=True)\n",
    "data.set_index('Date', inplace=True)\n",
    "print(data.head())"
   ]
  },
  {
   "cell_type": "code",
   "execution_count": 45,
   "metadata": {},
   "outputs": [
    {
     "name": "stdout",
     "output_type": "stream",
     "text": [
      "<class 'pandas.core.frame.DataFrame'>\n",
      "DatetimeIndex: 361 entries, 1990-04-01 to 2020-04-01\n",
      "Data columns (total 16 columns):\n",
      " #   Column                        Non-Null Count  Dtype  \n",
      "---  ------                        --------------  -----  \n",
      " 0   Coarse wool Price             327 non-null    object \n",
      " 1   Coarse wool price % Change    327 non-null    object \n",
      " 2   Copra Price                   339 non-null    object \n",
      " 3   Copra price % Change          339 non-null    object \n",
      " 4   Cotton Price                  361 non-null    float64\n",
      " 5   Cotton price % Change         361 non-null    object \n",
      " 6   Fine wool Price               327 non-null    object \n",
      " 7   Fine wool price % Change      327 non-null    object \n",
      " 8   Hard log Price                361 non-null    float64\n",
      " 9   Hard log price % Change       361 non-null    object \n",
      " 10  Hard sawnwood Price           327 non-null    float64\n",
      " 11  Hard sawnwood price % Change  327 non-null    object \n",
      " 12  Hide Price                    327 non-null    float64\n",
      " 13  Hide price % change           327 non-null    object \n",
      " 14  Rubber Price                  361 non-null    float64\n",
      " 15  Rubber price % Change         361 non-null    object \n",
      "dtypes: float64(5), object(11)\n",
      "memory usage: 47.9+ KB\n"
     ]
    }
   ],
   "source": [
    "data.info()"
   ]
  },
  {
   "cell_type": "markdown",
   "metadata": {},
   "source": [
    "**Xử lý cột thay đổi giá**"
   ]
  },
  {
   "cell_type": "code",
   "execution_count": 46,
   "metadata": {},
   "outputs": [
    {
     "name": "stdout",
     "output_type": "stream",
     "text": [
      "           Coarse wool Price Coarse wool price % Change Copra Price  \\\n",
      "Date                                                                  \n",
      "1990-04-01            482.34                          0         236   \n",
      "1990-05-01            447.26                     -7.27%         234   \n",
      "1990-06-01            440.99                     -1.40%         216   \n",
      "1990-07-01            418.44                     -5.11%         205   \n",
      "1990-08-01            418.44                      0.00%         198   \n",
      "\n",
      "           Copra price % Change  Cotton Price Cotton price % Change  \\\n",
      "Date                                                                  \n",
      "1990-04-01                    0          1.83                     0   \n",
      "1990-05-01               -0.85%          1.89                 3.28%   \n",
      "1990-06-01               -7.69%          1.99                 5.29%   \n",
      "1990-07-01               -5.09%          2.01                 1.01%   \n",
      "1990-08-01               -3.41%          1.79               -10.95%   \n",
      "\n",
      "           Fine wool Price Fine wool price % Change  Hard log Price  \\\n",
      "Date                                                                  \n",
      "1990-04-01        1,071.63                        0          161.20   \n",
      "1990-05-01        1,057.18                   -1.35%          172.86   \n",
      "1990-06-01          898.24                  -15.03%          181.67   \n",
      "1990-07-01          895.83                   -0.27%          187.96   \n",
      "1990-08-01          951.22                    6.18%          186.13   \n",
      "\n",
      "           Hard log price % Change  Hard sawnwood Price  \\\n",
      "Date                                                      \n",
      "1990-04-01                       0               549.91   \n",
      "1990-05-01                   7.23%               491.88   \n",
      "1990-06-01                   5.10%               495.39   \n",
      "1990-07-01                   3.46%               485.86   \n",
      "1990-08-01                  -0.97%               487.52   \n",
      "\n",
      "           Hard sawnwood price % Change  Hide Price Hide price % change  \\\n",
      "Date                                                                      \n",
      "1990-04-01                            0      100.00                   0   \n",
      "1990-05-01                      -10.55%       99.46              -0.54%   \n",
      "1990-06-01                        0.71%       97.90              -1.57%   \n",
      "1990-07-01                       -1.92%       96.75              -1.17%   \n",
      "1990-08-01                        0.34%       91.89              -5.02%   \n",
      "\n",
      "            Rubber Price Rubber price % Change  \n",
      "Date                                            \n",
      "1990-04-01          0.84                     0  \n",
      "1990-05-01          0.85                 1.19%  \n",
      "1990-06-01          0.85                 0.00%  \n",
      "1990-07-01          0.86                 1.18%  \n",
      "1990-08-01          0.88                 2.33%  \n"
     ]
    }
   ],
   "source": [
    "data = data.replace('-','0')\n",
    "print(data.head())"
   ]
  },
  {
   "cell_type": "code",
   "execution_count": 47,
   "metadata": {},
   "outputs": [],
   "source": [
    "#Nhóm các cột cùng loại\n",
    "prices = ['Coarse wool Price','Copra Price','Cotton Price','Fine wool Price','Hard log Price','Hard sawnwood Price','Hide Price','Rubber Price']\n",
    "percentages = ['Coarse wool price % Change',\n",
    "               'Copra price % Change',\n",
    "               'Cotton price % Change',\n",
    "               'Fine wool price % Change',\n",
    "               'Hard log price % Change',\n",
    "               'Hard sawnwood price % Change',\n",
    "               'Hide price % change',\n",
    "               'Rubber price % Change']"
   ]
  },
  {
   "cell_type": "code",
   "execution_count": 48,
   "metadata": {},
   "outputs": [
    {
     "name": "stdout",
     "output_type": "stream",
     "text": [
      "           Coarse wool Price  Coarse wool price % Change Copra Price  \\\n",
      "Date                                                                   \n",
      "1990-04-01            482.34                        0.00         236   \n",
      "1990-05-01            447.26                       -7.27         234   \n",
      "1990-06-01            440.99                       -1.40         216   \n",
      "1990-07-01            418.44                       -5.11         205   \n",
      "1990-08-01            418.44                        0.00         198   \n",
      "\n",
      "            Copra price % Change  Cotton Price  Cotton price % Change  \\\n",
      "Date                                                                    \n",
      "1990-04-01                  0.00          1.83                   0.00   \n",
      "1990-05-01                 -0.85          1.89                   3.28   \n",
      "1990-06-01                 -7.69          1.99                   5.29   \n",
      "1990-07-01                 -5.09          2.01                   1.01   \n",
      "1990-08-01                 -3.41          1.79                 -10.95   \n",
      "\n",
      "           Fine wool Price  Fine wool price % Change  Hard log Price  \\\n",
      "Date                                                                   \n",
      "1990-04-01        1,071.63                      0.00          161.20   \n",
      "1990-05-01        1,057.18                     -1.35          172.86   \n",
      "1990-06-01          898.24                    -15.03          181.67   \n",
      "1990-07-01          895.83                     -0.27          187.96   \n",
      "1990-08-01          951.22                      6.18          186.13   \n",
      "\n",
      "            Hard log price % Change  Hard sawnwood Price  \\\n",
      "Date                                                       \n",
      "1990-04-01                     0.00               549.91   \n",
      "1990-05-01                     7.23               491.88   \n",
      "1990-06-01                     5.10               495.39   \n",
      "1990-07-01                     3.46               485.86   \n",
      "1990-08-01                    -0.97               487.52   \n",
      "\n",
      "            Hard sawnwood price % Change  Hide Price  Hide price % change  \\\n",
      "Date                                                                        \n",
      "1990-04-01                          0.00      100.00                 0.00   \n",
      "1990-05-01                        -10.55       99.46                -0.54   \n",
      "1990-06-01                          0.71       97.90                -1.57   \n",
      "1990-07-01                         -1.92       96.75                -1.17   \n",
      "1990-08-01                          0.34       91.89                -5.02   \n",
      "\n",
      "            Rubber Price  Rubber price % Change  \n",
      "Date                                             \n",
      "1990-04-01          0.84                   0.00  \n",
      "1990-05-01          0.85                   1.19  \n",
      "1990-06-01          0.85                   0.00  \n",
      "1990-07-01          0.86                   1.18  \n",
      "1990-08-01          0.88                   2.33  \n"
     ]
    }
   ],
   "source": [
    "#Loại bỏ ký hiệu % và chuyển kiểu dl sang float\n",
    "for i in percentages:\n",
    "    data[i] = data[i].apply(lambda x: str(x).replace('%',''))\n",
    "    data[i] = data[i].astype('float')\n",
    "print(data.head())"
   ]
  },
  {
   "cell_type": "code",
   "execution_count": 49,
   "metadata": {},
   "outputs": [
    {
     "name": "stdout",
     "output_type": "stream",
     "text": [
      "<class 'pandas.core.frame.DataFrame'>\n",
      "DatetimeIndex: 361 entries, 1990-04-01 to 2020-04-01\n",
      "Data columns (total 16 columns):\n",
      " #   Column                        Non-Null Count  Dtype  \n",
      "---  ------                        --------------  -----  \n",
      " 0   Coarse wool Price             327 non-null    object \n",
      " 1   Coarse wool price % Change    327 non-null    float64\n",
      " 2   Copra Price                   339 non-null    object \n",
      " 3   Copra price % Change          339 non-null    float64\n",
      " 4   Cotton Price                  361 non-null    float64\n",
      " 5   Cotton price % Change         361 non-null    float64\n",
      " 6   Fine wool Price               327 non-null    object \n",
      " 7   Fine wool price % Change      327 non-null    float64\n",
      " 8   Hard log Price                361 non-null    float64\n",
      " 9   Hard log price % Change       361 non-null    float64\n",
      " 10  Hard sawnwood Price           327 non-null    float64\n",
      " 11  Hard sawnwood price % Change  327 non-null    float64\n",
      " 12  Hide Price                    327 non-null    float64\n",
      " 13  Hide price % change           327 non-null    float64\n",
      " 14  Rubber Price                  361 non-null    float64\n",
      " 15  Rubber price % Change         361 non-null    float64\n",
      "dtypes: float64(13), object(3)\n",
      "memory usage: 47.9+ KB\n"
     ]
    }
   ],
   "source": [
    "data.info()"
   ]
  },
  {
   "cell_type": "markdown",
   "metadata": {},
   "source": [
    "**Xử lý cột giá tiền**"
   ]
  },
  {
   "cell_type": "code",
   "execution_count": 50,
   "metadata": {},
   "outputs": [
    {
     "name": "stdout",
     "output_type": "stream",
     "text": [
      "<class 'pandas.core.frame.DataFrame'>\n",
      "DatetimeIndex: 361 entries, 1990-04-01 to 2020-04-01\n",
      "Data columns (total 16 columns):\n",
      " #   Column                        Non-Null Count  Dtype  \n",
      "---  ------                        --------------  -----  \n",
      " 0   Coarse wool Price             327 non-null    float64\n",
      " 1   Coarse wool price % Change    327 non-null    float64\n",
      " 2   Copra Price                   339 non-null    float64\n",
      " 3   Copra price % Change          339 non-null    float64\n",
      " 4   Cotton Price                  361 non-null    float64\n",
      " 5   Cotton price % Change         361 non-null    float64\n",
      " 6   Fine wool Price               327 non-null    float64\n",
      " 7   Fine wool price % Change      327 non-null    float64\n",
      " 8   Hard log Price                361 non-null    float64\n",
      " 9   Hard log price % Change       361 non-null    float64\n",
      " 10  Hard sawnwood Price           327 non-null    float64\n",
      " 11  Hard sawnwood price % Change  327 non-null    float64\n",
      " 12  Hide Price                    327 non-null    float64\n",
      " 13  Hide price % change           327 non-null    float64\n",
      " 14  Rubber Price                  361 non-null    float64\n",
      " 15  Rubber price % Change         361 non-null    float64\n",
      "dtypes: float64(16)\n",
      "memory usage: 47.9 KB\n"
     ]
    }
   ],
   "source": [
    "for i in prices:\n",
    "    data[i] = data[i].apply(lambda x: str(x).replace(',',''))\n",
    "    data[i] = data[i].astype('float')\n",
    "data.info()"
   ]
  },
  {
   "cell_type": "code",
   "execution_count": 51,
   "metadata": {},
   "outputs": [
    {
     "name": "stdout",
     "output_type": "stream",
     "text": [
      "            Coarse wool Price  Coarse wool price % Change  Copra Price  \\\n",
      "Date                                                                     \n",
      "1990-04-01             482.34                        0.00        236.0   \n",
      "1990-05-01             447.26                       -7.27        234.0   \n",
      "1990-06-01             440.99                       -1.40        216.0   \n",
      "1990-07-01             418.44                       -5.11        205.0   \n",
      "1990-08-01             418.44                        0.00        198.0   \n",
      "\n",
      "            Copra price % Change  Cotton Price  Cotton price % Change  \\\n",
      "Date                                                                    \n",
      "1990-04-01                  0.00          1.83                   0.00   \n",
      "1990-05-01                 -0.85          1.89                   3.28   \n",
      "1990-06-01                 -7.69          1.99                   5.29   \n",
      "1990-07-01                 -5.09          2.01                   1.01   \n",
      "1990-08-01                 -3.41          1.79                 -10.95   \n",
      "\n",
      "            Fine wool Price  Fine wool price % Change  Hard log Price  \\\n",
      "Date                                                                    \n",
      "1990-04-01          1071.63                      0.00          161.20   \n",
      "1990-05-01          1057.18                     -1.35          172.86   \n",
      "1990-06-01           898.24                    -15.03          181.67   \n",
      "1990-07-01           895.83                     -0.27          187.96   \n",
      "1990-08-01           951.22                      6.18          186.13   \n",
      "\n",
      "            Hard log price % Change  Hard sawnwood Price  \\\n",
      "Date                                                       \n",
      "1990-04-01                     0.00               549.91   \n",
      "1990-05-01                     7.23               491.88   \n",
      "1990-06-01                     5.10               495.39   \n",
      "1990-07-01                     3.46               485.86   \n",
      "1990-08-01                    -0.97               487.52   \n",
      "\n",
      "            Hard sawnwood price % Change  Hide Price  Hide price % change  \\\n",
      "Date                                                                        \n",
      "1990-04-01                          0.00      100.00                 0.00   \n",
      "1990-05-01                        -10.55       99.46                -0.54   \n",
      "1990-06-01                          0.71       97.90                -1.57   \n",
      "1990-07-01                         -1.92       96.75                -1.17   \n",
      "1990-08-01                          0.34       91.89                -5.02   \n",
      "\n",
      "            Rubber Price  Rubber price % Change  \n",
      "Date                                             \n",
      "1990-04-01          0.84                   0.00  \n",
      "1990-05-01          0.85                   1.19  \n",
      "1990-06-01          0.85                   0.00  \n",
      "1990-07-01          0.86                   1.18  \n",
      "1990-08-01          0.88                   2.33  \n"
     ]
    }
   ],
   "source": [
    "print(data.head())"
   ]
  },
  {
   "cell_type": "code",
   "execution_count": 52,
   "metadata": {},
   "outputs": [],
   "source": [
    "#Lưu dữ liệu đã xử lý ra file mới\n",
    "data.to_csv('Data chương 2\\Data_Agriculture_OK.csv')"
   ]
  },
  {
   "cell_type": "code",
   "execution_count": null,
   "metadata": {},
   "outputs": [],
   "source": []
  }
 ],
 "metadata": {
  "kernelspec": {
   "display_name": "Python 3",
   "language": "python",
   "name": "python3"
  },
  "language_info": {
   "codemirror_mode": {
    "name": "ipython",
    "version": 3
   },
   "file_extension": ".py",
   "mimetype": "text/x-python",
   "name": "python",
   "nbconvert_exporter": "python",
   "pygments_lexer": "ipython3",
   "version": "3.7.1"
  }
 },
 "nbformat": 4,
 "nbformat_minor": 2
}
