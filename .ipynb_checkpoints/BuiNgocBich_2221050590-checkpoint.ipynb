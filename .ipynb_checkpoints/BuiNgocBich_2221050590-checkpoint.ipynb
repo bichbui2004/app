{
 "cells": [
  {
   "cell_type": "code",
   "execution_count": 302,
   "id": "540b1bc4-d5e6-4c3a-840a-f37f1cde8053",
   "metadata": {},
   "outputs": [],
   "source": [
    "#Gọi thư viện\n",
    "import pandas as pd\n",
    "import numpy as np\n",
    "import matplotlib.pyplot as plt\n",
    "import warnings\n",
    "warnings.filterwarnings('ignore')"
   ]
  },
  {
   "cell_type": "code",
   "execution_count": 304,
   "id": "07d98468-b07c-4b33-b4a5-40e215c4d04b",
   "metadata": {},
   "outputs": [
    {
     "name": "stdout",
     "output_type": "stream",
     "text": [
      "<class 'pandas.core.frame.DataFrame'>\n",
      "RangeIndex: 302 entries, 0 to 301\n",
      "Data columns (total 9 columns):\n",
      " #   Column          Non-Null Count  Dtype \n",
      "---  ------          --------------  ----- \n",
      " 0   id              302 non-null    object\n",
      " 1   Age             302 non-null    int64 \n",
      " 2   Gender          302 non-null    object\n",
      " 3   Type            297 non-null    object\n",
      " 4   Blood_pressure  302 non-null    int64 \n",
      " 5   Cholesterol     302 non-null    int64 \n",
      " 6   Heartbeat       302 non-null    int64 \n",
      " 7   Thalassemia     302 non-null    object\n",
      " 8   Result          302 non-null    object\n",
      "dtypes: int64(4), object(5)\n",
      "memory usage: 21.4+ KB\n"
     ]
    }
   ],
   "source": [
    "#Đọc dữ liệu\n",
    "data = pd.read_excel(r\"C:\\Users\\PC\\Documents\\Khai phá dữ liệu\\Data_Patient_Heart_Attack.xlsx\")\n",
    "#Hiển thị thông tin dữ liệu\n",
    "data.info()"
   ]
  },
  {
   "cell_type": "code",
   "execution_count": 306,
   "id": "c02ac42c-73d9-4f8a-942b-34a3f25b96c1",
   "metadata": {},
   "outputs": [
    {
     "data": {
      "text/html": [
       "<div>\n",
       "<style scoped>\n",
       "    .dataframe tbody tr th:only-of-type {\n",
       "        vertical-align: middle;\n",
       "    }\n",
       "\n",
       "    .dataframe tbody tr th {\n",
       "        vertical-align: top;\n",
       "    }\n",
       "\n",
       "    .dataframe thead th {\n",
       "        text-align: right;\n",
       "    }\n",
       "</style>\n",
       "<table border=\"1\" class=\"dataframe\">\n",
       "  <thead>\n",
       "    <tr style=\"text-align: right;\">\n",
       "      <th></th>\n",
       "      <th>id</th>\n",
       "      <th>Age</th>\n",
       "      <th>Gender</th>\n",
       "      <th>Type</th>\n",
       "      <th>Blood_pressure</th>\n",
       "      <th>Cholesterol</th>\n",
       "      <th>Heartbeat</th>\n",
       "      <th>Thalassemia</th>\n",
       "      <th>Result</th>\n",
       "    </tr>\n",
       "  </thead>\n",
       "  <tbody>\n",
       "    <tr>\n",
       "      <th>0</th>\n",
       "      <td>Patient_01</td>\n",
       "      <td>63</td>\n",
       "      <td>Male</td>\n",
       "      <td>Typical angina</td>\n",
       "      <td>145</td>\n",
       "      <td>233</td>\n",
       "      <td>150</td>\n",
       "      <td>6</td>\n",
       "      <td>No</td>\n",
       "    </tr>\n",
       "    <tr>\n",
       "      <th>1</th>\n",
       "      <td>Patient_02</td>\n",
       "      <td>67</td>\n",
       "      <td>Male</td>\n",
       "      <td>Asymptomatic</td>\n",
       "      <td>160</td>\n",
       "      <td>286</td>\n",
       "      <td>108</td>\n",
       "      <td>Three</td>\n",
       "      <td>Yes</td>\n",
       "    </tr>\n",
       "    <tr>\n",
       "      <th>2</th>\n",
       "      <td>Patient_03</td>\n",
       "      <td>67</td>\n",
       "      <td>Male</td>\n",
       "      <td>Asymptomatic</td>\n",
       "      <td>120</td>\n",
       "      <td>229</td>\n",
       "      <td>129</td>\n",
       "      <td>7</td>\n",
       "      <td>Yes</td>\n",
       "    </tr>\n",
       "    <tr>\n",
       "      <th>3</th>\n",
       "      <td>Patient_04</td>\n",
       "      <td>37</td>\n",
       "      <td>Male</td>\n",
       "      <td>Non-anginal pain</td>\n",
       "      <td>130</td>\n",
       "      <td>250</td>\n",
       "      <td>187</td>\n",
       "      <td>Three</td>\n",
       "      <td>No</td>\n",
       "    </tr>\n",
       "    <tr>\n",
       "      <th>4</th>\n",
       "      <td>Patient_05</td>\n",
       "      <td>41</td>\n",
       "      <td>F</td>\n",
       "      <td>Atypical angina</td>\n",
       "      <td>130</td>\n",
       "      <td>204</td>\n",
       "      <td>172</td>\n",
       "      <td>6</td>\n",
       "      <td>No</td>\n",
       "    </tr>\n",
       "  </tbody>\n",
       "</table>\n",
       "</div>"
      ],
      "text/plain": [
       "           id  Age Gender              Type  Blood_pressure  Cholesterol  \\\n",
       "0  Patient_01   63   Male    Typical angina             145          233   \n",
       "1  Patient_02   67   Male      Asymptomatic             160          286   \n",
       "2  Patient_03   67   Male      Asymptomatic             120          229   \n",
       "3  Patient_04   37   Male  Non-anginal pain             130          250   \n",
       "4  Patient_05   41      F   Atypical angina             130          204   \n",
       "\n",
       "   Heartbeat Thalassemia Result  \n",
       "0        150           6     No  \n",
       "1        108       Three    Yes  \n",
       "2        129           7    Yes  \n",
       "3        187       Three     No  \n",
       "4        172           6     No  "
      ]
     },
     "execution_count": 306,
     "metadata": {},
     "output_type": "execute_result"
    }
   ],
   "source": [
    "#Hiển thị dữ liệu\n",
    "data.head()"
   ]
  },
  {
   "cell_type": "code",
   "execution_count": 308,
   "id": "ecd53726-b057-4ea8-b4df-38f0988c9e2e",
   "metadata": {},
   "outputs": [
    {
     "data": {
      "text/html": [
       "<div>\n",
       "<style scoped>\n",
       "    .dataframe tbody tr th:only-of-type {\n",
       "        vertical-align: middle;\n",
       "    }\n",
       "\n",
       "    .dataframe tbody tr th {\n",
       "        vertical-align: top;\n",
       "    }\n",
       "\n",
       "    .dataframe thead th {\n",
       "        text-align: right;\n",
       "    }\n",
       "</style>\n",
       "<table border=\"1\" class=\"dataframe\">\n",
       "  <thead>\n",
       "    <tr style=\"text-align: right;\">\n",
       "      <th></th>\n",
       "      <th>Age</th>\n",
       "      <th>Blood_pressure</th>\n",
       "      <th>Cholesterol</th>\n",
       "      <th>Heartbeat</th>\n",
       "    </tr>\n",
       "  </thead>\n",
       "  <tbody>\n",
       "    <tr>\n",
       "      <th>count</th>\n",
       "      <td>302.000000</td>\n",
       "      <td>302.000000</td>\n",
       "      <td>302.000000</td>\n",
       "      <td>302.000000</td>\n",
       "    </tr>\n",
       "    <tr>\n",
       "      <th>mean</th>\n",
       "      <td>56.582781</td>\n",
       "      <td>131.642384</td>\n",
       "      <td>246.844371</td>\n",
       "      <td>148.870861</td>\n",
       "    </tr>\n",
       "    <tr>\n",
       "      <th>std</th>\n",
       "      <td>38.773361</td>\n",
       "      <td>17.632025</td>\n",
       "      <td>51.736737</td>\n",
       "      <td>24.386694</td>\n",
       "    </tr>\n",
       "    <tr>\n",
       "      <th>min</th>\n",
       "      <td>29.000000</td>\n",
       "      <td>94.000000</td>\n",
       "      <td>126.000000</td>\n",
       "      <td>0.000000</td>\n",
       "    </tr>\n",
       "    <tr>\n",
       "      <th>25%</th>\n",
       "      <td>48.000000</td>\n",
       "      <td>120.000000</td>\n",
       "      <td>211.250000</td>\n",
       "      <td>132.250000</td>\n",
       "    </tr>\n",
       "    <tr>\n",
       "      <th>50%</th>\n",
       "      <td>55.500000</td>\n",
       "      <td>130.000000</td>\n",
       "      <td>241.500000</td>\n",
       "      <td>152.000000</td>\n",
       "    </tr>\n",
       "    <tr>\n",
       "      <th>75%</th>\n",
       "      <td>61.000000</td>\n",
       "      <td>140.000000</td>\n",
       "      <td>275.000000</td>\n",
       "      <td>165.000000</td>\n",
       "    </tr>\n",
       "    <tr>\n",
       "      <th>max</th>\n",
       "      <td>710.000000</td>\n",
       "      <td>200.000000</td>\n",
       "      <td>564.000000</td>\n",
       "      <td>202.000000</td>\n",
       "    </tr>\n",
       "  </tbody>\n",
       "</table>\n",
       "</div>"
      ],
      "text/plain": [
       "              Age  Blood_pressure  Cholesterol   Heartbeat\n",
       "count  302.000000      302.000000   302.000000  302.000000\n",
       "mean    56.582781      131.642384   246.844371  148.870861\n",
       "std     38.773361       17.632025    51.736737   24.386694\n",
       "min     29.000000       94.000000   126.000000    0.000000\n",
       "25%     48.000000      120.000000   211.250000  132.250000\n",
       "50%     55.500000      130.000000   241.500000  152.000000\n",
       "75%     61.000000      140.000000   275.000000  165.000000\n",
       "max    710.000000      200.000000   564.000000  202.000000"
      ]
     },
     "execution_count": 308,
     "metadata": {},
     "output_type": "execute_result"
    }
   ],
   "source": [
    "#Quan sát dữ liệu số\n",
    "data.describe()"
   ]
  },
  {
   "cell_type": "code",
   "execution_count": 310,
   "id": "fa517ce4-c474-4c53-b8a0-989e2c1192d9",
   "metadata": {},
   "outputs": [
    {
     "data": {
      "text/html": [
       "<div>\n",
       "<style scoped>\n",
       "    .dataframe tbody tr th:only-of-type {\n",
       "        vertical-align: middle;\n",
       "    }\n",
       "\n",
       "    .dataframe tbody tr th {\n",
       "        vertical-align: top;\n",
       "    }\n",
       "\n",
       "    .dataframe thead th {\n",
       "        text-align: right;\n",
       "    }\n",
       "</style>\n",
       "<table border=\"1\" class=\"dataframe\">\n",
       "  <thead>\n",
       "    <tr style=\"text-align: right;\">\n",
       "      <th></th>\n",
       "      <th>id</th>\n",
       "      <th>Gender</th>\n",
       "      <th>Type</th>\n",
       "      <th>Thalassemia</th>\n",
       "      <th>Result</th>\n",
       "    </tr>\n",
       "  </thead>\n",
       "  <tbody>\n",
       "    <tr>\n",
       "      <th>count</th>\n",
       "      <td>302</td>\n",
       "      <td>302</td>\n",
       "      <td>297</td>\n",
       "      <td>302</td>\n",
       "      <td>302</td>\n",
       "    </tr>\n",
       "    <tr>\n",
       "      <th>unique</th>\n",
       "      <td>292</td>\n",
       "      <td>4</td>\n",
       "      <td>4</td>\n",
       "      <td>3</td>\n",
       "      <td>2</td>\n",
       "    </tr>\n",
       "    <tr>\n",
       "      <th>top</th>\n",
       "      <td>Patient_60</td>\n",
       "      <td>Male</td>\n",
       "      <td>Asymptomatic</td>\n",
       "      <td>Three</td>\n",
       "      <td>No</td>\n",
       "    </tr>\n",
       "    <tr>\n",
       "      <th>freq</th>\n",
       "      <td>3</td>\n",
       "      <td>205</td>\n",
       "      <td>139</td>\n",
       "      <td>160</td>\n",
       "      <td>164</td>\n",
       "    </tr>\n",
       "  </tbody>\n",
       "</table>\n",
       "</div>"
      ],
      "text/plain": [
       "                id Gender          Type Thalassemia Result\n",
       "count          302    302           297         302    302\n",
       "unique         292      4             4           3      2\n",
       "top     Patient_60   Male  Asymptomatic       Three     No\n",
       "freq             3    205           139         160    164"
      ]
     },
     "execution_count": 310,
     "metadata": {},
     "output_type": "execute_result"
    }
   ],
   "source": [
    "#Quan sát dữ liệu object\n",
    "data.describe(include='O')"
   ]
  },
  {
   "cell_type": "code",
   "execution_count": 312,
   "id": "0bec653a-fb21-4eaf-994a-6608a2499f9c",
   "metadata": {},
   "outputs": [
    {
     "data": {
      "text/plain": [
       "2"
      ]
     },
     "execution_count": 312,
     "metadata": {},
     "output_type": "execute_result"
    }
   ],
   "source": [
    "#Kiểm tra dữ liệu trùng lặp\n",
    "data.duplicated().sum()"
   ]
  },
  {
   "cell_type": "markdown",
   "id": "8fabb83b-7e58-43be-b50b-f00009451f17",
   "metadata": {},
   "source": [
    "**NHẬN XÉT:** Các vấn đề cần xử lý\n",
    "- Xử lý dữ liệu trùng lặp\n",
    "- Xử lý dữ liệu ngoại lai (Thuộc tính Age)\n",
    "- Xử lý dữ liệu missing \n",
    "- Chuẩn hóa dữ liệu cột Gender"
   ]
  },
  {
   "cell_type": "markdown",
   "id": "38755d60-e691-40d3-b9ae-c877b7080d2b",
   "metadata": {},
   "source": [
    "# 1. Xử lý dữ liệu trùng lặp"
   ]
  },
  {
   "cell_type": "code",
   "execution_count": 324,
   "id": "43e69836-da80-412e-a3be-9c36828e0118",
   "metadata": {},
   "outputs": [
    {
     "data": {
      "text/html": [
       "<div>\n",
       "<style scoped>\n",
       "    .dataframe tbody tr th:only-of-type {\n",
       "        vertical-align: middle;\n",
       "    }\n",
       "\n",
       "    .dataframe tbody tr th {\n",
       "        vertical-align: top;\n",
       "    }\n",
       "\n",
       "    .dataframe thead th {\n",
       "        text-align: right;\n",
       "    }\n",
       "</style>\n",
       "<table border=\"1\" class=\"dataframe\">\n",
       "  <thead>\n",
       "    <tr style=\"text-align: right;\">\n",
       "      <th></th>\n",
       "      <th>id</th>\n",
       "      <th>Age</th>\n",
       "      <th>Gender</th>\n",
       "      <th>Type</th>\n",
       "      <th>Blood_pressure</th>\n",
       "      <th>Cholesterol</th>\n",
       "      <th>Heartbeat</th>\n",
       "      <th>Thalassemia</th>\n",
       "      <th>Result</th>\n",
       "    </tr>\n",
       "  </thead>\n",
       "  <tbody>\n",
       "    <tr>\n",
       "      <th>59</th>\n",
       "      <td>Patient_60</td>\n",
       "      <td>51</td>\n",
       "      <td>Male</td>\n",
       "      <td>Typical angina</td>\n",
       "      <td>125</td>\n",
       "      <td>213</td>\n",
       "      <td>125</td>\n",
       "      <td>Three</td>\n",
       "      <td>No</td>\n",
       "    </tr>\n",
       "    <tr>\n",
       "      <th>60</th>\n",
       "      <td>Patient_60</td>\n",
       "      <td>51</td>\n",
       "      <td>Male</td>\n",
       "      <td>Typical angina</td>\n",
       "      <td>125</td>\n",
       "      <td>213</td>\n",
       "      <td>125</td>\n",
       "      <td>Three</td>\n",
       "      <td>No</td>\n",
       "    </tr>\n",
       "    <tr>\n",
       "      <th>61</th>\n",
       "      <td>Patient_60</td>\n",
       "      <td>51</td>\n",
       "      <td>Male</td>\n",
       "      <td>Typical angina</td>\n",
       "      <td>125</td>\n",
       "      <td>213</td>\n",
       "      <td>125</td>\n",
       "      <td>Three</td>\n",
       "      <td>No</td>\n",
       "    </tr>\n",
       "  </tbody>\n",
       "</table>\n",
       "</div>"
      ],
      "text/plain": [
       "            id  Age Gender            Type  Blood_pressure  Cholesterol  \\\n",
       "59  Patient_60   51   Male  Typical angina             125          213   \n",
       "60  Patient_60   51   Male  Typical angina             125          213   \n",
       "61  Patient_60   51   Male  Typical angina             125          213   \n",
       "\n",
       "    Heartbeat Thalassemia Result  \n",
       "59        125       Three     No  \n",
       "60        125       Three     No  \n",
       "61        125       Three     No  "
      ]
     },
     "execution_count": 324,
     "metadata": {},
     "output_type": "execute_result"
    }
   ],
   "source": [
    "#Lọc các bản ghi trùng lặp\n",
    "data[data.duplicated(keep=False)]"
   ]
  },
  {
   "cell_type": "code",
   "execution_count": 326,
   "id": "65992399-8c0c-4b05-bd8b-77acce1c364c",
   "metadata": {},
   "outputs": [],
   "source": [
    "#Xóa các bản ghi trùng lặp\n",
    "data.drop_duplicates(keep='first',inplace=True)"
   ]
  },
  {
   "cell_type": "code",
   "execution_count": 328,
   "id": "1c9013e5-feb1-4e20-9899-34c28d9a822e",
   "metadata": {},
   "outputs": [
    {
     "data": {
      "text/plain": [
       "0"
      ]
     },
     "execution_count": 328,
     "metadata": {},
     "output_type": "execute_result"
    }
   ],
   "source": [
    "#Kiểm tra lại\n",
    "data.duplicated().sum()"
   ]
  },
  {
   "cell_type": "code",
   "execution_count": 332,
   "id": "586e70a8-6fef-4f8e-83c7-31390e1f73f1",
   "metadata": {},
   "outputs": [
    {
     "data": {
      "text/html": [
       "<div>\n",
       "<style scoped>\n",
       "    .dataframe tbody tr th:only-of-type {\n",
       "        vertical-align: middle;\n",
       "    }\n",
       "\n",
       "    .dataframe tbody tr th {\n",
       "        vertical-align: top;\n",
       "    }\n",
       "\n",
       "    .dataframe thead th {\n",
       "        text-align: right;\n",
       "    }\n",
       "</style>\n",
       "<table border=\"1\" class=\"dataframe\">\n",
       "  <thead>\n",
       "    <tr style=\"text-align: right;\">\n",
       "      <th></th>\n",
       "      <th>id</th>\n",
       "      <th>Age</th>\n",
       "      <th>Gender</th>\n",
       "      <th>Type</th>\n",
       "      <th>Blood_pressure</th>\n",
       "      <th>Cholesterol</th>\n",
       "      <th>Heartbeat</th>\n",
       "      <th>Thalassemia</th>\n",
       "      <th>Result</th>\n",
       "    </tr>\n",
       "  </thead>\n",
       "  <tbody>\n",
       "    <tr>\n",
       "      <th>10</th>\n",
       "      <td>Patient_110</td>\n",
       "      <td>57</td>\n",
       "      <td>Male</td>\n",
       "      <td>Asymptomatic</td>\n",
       "      <td>140</td>\n",
       "      <td>192</td>\n",
       "      <td>148</td>\n",
       "      <td>6</td>\n",
       "      <td>No</td>\n",
       "    </tr>\n",
       "    <tr>\n",
       "      <th>11</th>\n",
       "      <td>Patient_120</td>\n",
       "      <td>56</td>\n",
       "      <td>Female</td>\n",
       "      <td>Atypical angina</td>\n",
       "      <td>140</td>\n",
       "      <td>294</td>\n",
       "      <td>153</td>\n",
       "      <td>Three</td>\n",
       "      <td>No</td>\n",
       "    </tr>\n",
       "    <tr>\n",
       "      <th>12</th>\n",
       "      <td>Patient_130</td>\n",
       "      <td>56</td>\n",
       "      <td>Male</td>\n",
       "      <td>Non-anginal pain</td>\n",
       "      <td>130</td>\n",
       "      <td>256</td>\n",
       "      <td>142</td>\n",
       "      <td>6</td>\n",
       "      <td>Yes</td>\n",
       "    </tr>\n",
       "    <tr>\n",
       "      <th>13</th>\n",
       "      <td>Patient_140</td>\n",
       "      <td>44</td>\n",
       "      <td>Male</td>\n",
       "      <td>Atypical angina</td>\n",
       "      <td>120</td>\n",
       "      <td>263</td>\n",
       "      <td>173</td>\n",
       "      <td>7</td>\n",
       "      <td>No</td>\n",
       "    </tr>\n",
       "    <tr>\n",
       "      <th>14</th>\n",
       "      <td>Patient_150</td>\n",
       "      <td>52</td>\n",
       "      <td>Male</td>\n",
       "      <td>Non-anginal pain</td>\n",
       "      <td>172</td>\n",
       "      <td>199</td>\n",
       "      <td>162</td>\n",
       "      <td>7</td>\n",
       "      <td>No</td>\n",
       "    </tr>\n",
       "    <tr>\n",
       "      <th>16</th>\n",
       "      <td>Patient_170</td>\n",
       "      <td>48</td>\n",
       "      <td>Male</td>\n",
       "      <td>Atypical angina</td>\n",
       "      <td>110</td>\n",
       "      <td>229</td>\n",
       "      <td>168</td>\n",
       "      <td>7</td>\n",
       "      <td>Yes</td>\n",
       "    </tr>\n",
       "    <tr>\n",
       "      <th>17</th>\n",
       "      <td>Patient_180</td>\n",
       "      <td>54</td>\n",
       "      <td>Male</td>\n",
       "      <td>Asymptomatic</td>\n",
       "      <td>140</td>\n",
       "      <td>239</td>\n",
       "      <td>160</td>\n",
       "      <td>Three</td>\n",
       "      <td>No</td>\n",
       "    </tr>\n",
       "    <tr>\n",
       "      <th>19</th>\n",
       "      <td>Patient_200</td>\n",
       "      <td>49</td>\n",
       "      <td>Male</td>\n",
       "      <td>Atypical angina</td>\n",
       "      <td>130</td>\n",
       "      <td>266</td>\n",
       "      <td>171</td>\n",
       "      <td>Three</td>\n",
       "      <td>No</td>\n",
       "    </tr>\n",
       "    <tr>\n",
       "      <th>111</th>\n",
       "      <td>Patient_110</td>\n",
       "      <td>61</td>\n",
       "      <td>Female</td>\n",
       "      <td>Asymptomatic</td>\n",
       "      <td>145</td>\n",
       "      <td>307</td>\n",
       "      <td>146</td>\n",
       "      <td>7</td>\n",
       "      <td>Yes</td>\n",
       "    </tr>\n",
       "    <tr>\n",
       "      <th>121</th>\n",
       "      <td>Patient_120</td>\n",
       "      <td>48</td>\n",
       "      <td>Male</td>\n",
       "      <td>Asymptomatic</td>\n",
       "      <td>130</td>\n",
       "      <td>256</td>\n",
       "      <td>150</td>\n",
       "      <td>7</td>\n",
       "      <td>Yes</td>\n",
       "    </tr>\n",
       "    <tr>\n",
       "      <th>131</th>\n",
       "      <td>Patient_130</td>\n",
       "      <td>54</td>\n",
       "      <td>Male</td>\n",
       "      <td>Non-anginal pain</td>\n",
       "      <td>120</td>\n",
       "      <td>258</td>\n",
       "      <td>147</td>\n",
       "      <td>7</td>\n",
       "      <td>No</td>\n",
       "    </tr>\n",
       "    <tr>\n",
       "      <th>141</th>\n",
       "      <td>Patient_140</td>\n",
       "      <td>59</td>\n",
       "      <td>Male</td>\n",
       "      <td>Atypical angina</td>\n",
       "      <td>140</td>\n",
       "      <td>221</td>\n",
       "      <td>164</td>\n",
       "      <td>Three</td>\n",
       "      <td>No</td>\n",
       "    </tr>\n",
       "    <tr>\n",
       "      <th>151</th>\n",
       "      <td>Patient_150</td>\n",
       "      <td>52</td>\n",
       "      <td>Male</td>\n",
       "      <td>Typical angina</td>\n",
       "      <td>152</td>\n",
       "      <td>298</td>\n",
       "      <td>178</td>\n",
       "      <td>7</td>\n",
       "      <td>No</td>\n",
       "    </tr>\n",
       "    <tr>\n",
       "      <th>171</th>\n",
       "      <td>Patient_170</td>\n",
       "      <td>70</td>\n",
       "      <td>Male</td>\n",
       "      <td>Non-anginal pain</td>\n",
       "      <td>160</td>\n",
       "      <td>269</td>\n",
       "      <td>112</td>\n",
       "      <td>7</td>\n",
       "      <td>Yes</td>\n",
       "    </tr>\n",
       "    <tr>\n",
       "      <th>181</th>\n",
       "      <td>Patient_180</td>\n",
       "      <td>48</td>\n",
       "      <td>Male</td>\n",
       "      <td>Asymptomatic</td>\n",
       "      <td>124</td>\n",
       "      <td>274</td>\n",
       "      <td>166</td>\n",
       "      <td>7</td>\n",
       "      <td>Yes</td>\n",
       "    </tr>\n",
       "    <tr>\n",
       "      <th>201</th>\n",
       "      <td>Patient_200</td>\n",
       "      <td>50</td>\n",
       "      <td>Female</td>\n",
       "      <td>Asymptomatic</td>\n",
       "      <td>110</td>\n",
       "      <td>254</td>\n",
       "      <td>159</td>\n",
       "      <td>Three</td>\n",
       "      <td>No</td>\n",
       "    </tr>\n",
       "  </tbody>\n",
       "</table>\n",
       "</div>"
      ],
      "text/plain": [
       "              id  Age  Gender              Type  Blood_pressure  Cholesterol  \\\n",
       "10   Patient_110   57    Male      Asymptomatic             140          192   \n",
       "11   Patient_120   56  Female   Atypical angina             140          294   \n",
       "12   Patient_130   56    Male  Non-anginal pain             130          256   \n",
       "13   Patient_140   44    Male   Atypical angina             120          263   \n",
       "14   Patient_150   52    Male  Non-anginal pain             172          199   \n",
       "16   Patient_170   48    Male   Atypical angina             110          229   \n",
       "17   Patient_180   54    Male      Asymptomatic             140          239   \n",
       "19   Patient_200   49    Male   Atypical angina             130          266   \n",
       "111  Patient_110   61  Female      Asymptomatic             145          307   \n",
       "121  Patient_120   48    Male      Asymptomatic             130          256   \n",
       "131  Patient_130   54    Male  Non-anginal pain             120          258   \n",
       "141  Patient_140   59    Male   Atypical angina             140          221   \n",
       "151  Patient_150   52    Male    Typical angina             152          298   \n",
       "171  Patient_170   70    Male  Non-anginal pain             160          269   \n",
       "181  Patient_180   48    Male      Asymptomatic             124          274   \n",
       "201  Patient_200   50  Female      Asymptomatic             110          254   \n",
       "\n",
       "     Heartbeat Thalassemia Result  \n",
       "10         148           6     No  \n",
       "11         153       Three     No  \n",
       "12         142           6    Yes  \n",
       "13         173           7     No  \n",
       "14         162           7     No  \n",
       "16         168           7    Yes  \n",
       "17         160       Three     No  \n",
       "19         171       Three     No  \n",
       "111        146           7    Yes  \n",
       "121        150           7    Yes  \n",
       "131        147           7     No  \n",
       "141        164       Three     No  \n",
       "151        178           7     No  \n",
       "171        112           7    Yes  \n",
       "181        166           7    Yes  \n",
       "201        159       Three     No  "
      ]
     },
     "execution_count": 332,
     "metadata": {},
     "output_type": "execute_result"
    }
   ],
   "source": [
    "#Kiểm tra dựa trên ID\n",
    "data[data['id'].duplicated(keep=False)]"
   ]
  },
  {
   "cell_type": "code",
   "execution_count": 336,
   "id": "9efc5e70-6d80-4922-8d9c-a666df3d5a11",
   "metadata": {},
   "outputs": [],
   "source": [
    "data.loc[10,'id'] = 'Patient_11'\n",
    "data.loc[11,'id'] = 'Patient_12'\n",
    "data.loc[12,'id'] = 'Patient_13'\n",
    "data.loc[13,'id'] = 'Patient_14'\n",
    "data.loc[14,'id'] = 'Patient_15'\n",
    "data.loc[16,'id'] = 'Patient_17'\n",
    "data.loc[17,'id'] = 'Patient_18'\n",
    "data.loc[19,'id'] = 'Patient_20'\n",
    "data.loc[10,'id'] = 'Patient_11'"
   ]
  },
  {
   "cell_type": "code",
   "execution_count": 338,
   "id": "79a7b16d-e637-4a2c-9239-23ae0dfc6abc",
   "metadata": {},
   "outputs": [
    {
     "name": "stdout",
     "output_type": "stream",
     "text": [
      "<class 'pandas.core.frame.DataFrame'>\n",
      "Index: 300 entries, 0 to 301\n",
      "Data columns (total 9 columns):\n",
      " #   Column          Non-Null Count  Dtype \n",
      "---  ------          --------------  ----- \n",
      " 0   id              300 non-null    object\n",
      " 1   Age             300 non-null    int64 \n",
      " 2   Gender          300 non-null    object\n",
      " 3   Type            295 non-null    object\n",
      " 4   Blood_pressure  300 non-null    int64 \n",
      " 5   Cholesterol     300 non-null    int64 \n",
      " 6   Heartbeat       300 non-null    int64 \n",
      " 7   Thalassemia     300 non-null    object\n",
      " 8   Result          300 non-null    object\n",
      "dtypes: int64(4), object(5)\n",
      "memory usage: 31.5+ KB\n"
     ]
    }
   ],
   "source": [
    "data.info()"
   ]
  },
  {
   "cell_type": "code",
   "execution_count": null,
   "id": "c60b7900-4afb-46fc-8a61-99eb9d5a6681",
   "metadata": {},
   "outputs": [],
   "source": []
  },
  {
   "cell_type": "markdown",
   "id": "20e67275-c34c-431d-9173-3563827207ce",
   "metadata": {},
   "source": [
    "# 2. Xử lý dữ liệu ngoại lai"
   ]
  },
  {
   "cell_type": "code",
   "execution_count": 342,
   "id": "9b184b00-8a9d-40a4-b04b-e1d6a8352ca6",
   "metadata": {},
   "outputs": [
    {
     "data": {
      "text/html": [
       "<div>\n",
       "<style scoped>\n",
       "    .dataframe tbody tr th:only-of-type {\n",
       "        vertical-align: middle;\n",
       "    }\n",
       "\n",
       "    .dataframe tbody tr th {\n",
       "        vertical-align: top;\n",
       "    }\n",
       "\n",
       "    .dataframe thead th {\n",
       "        text-align: right;\n",
       "    }\n",
       "</style>\n",
       "<table border=\"1\" class=\"dataframe\">\n",
       "  <thead>\n",
       "    <tr style=\"text-align: right;\">\n",
       "      <th></th>\n",
       "      <th>id</th>\n",
       "      <th>Age</th>\n",
       "      <th>Gender</th>\n",
       "      <th>Type</th>\n",
       "      <th>Blood_pressure</th>\n",
       "      <th>Cholesterol</th>\n",
       "      <th>Heartbeat</th>\n",
       "      <th>Thalassemia</th>\n",
       "      <th>Result</th>\n",
       "    </tr>\n",
       "  </thead>\n",
       "  <tbody>\n",
       "    <tr>\n",
       "      <th>42</th>\n",
       "      <td>Patient_43</td>\n",
       "      <td>710</td>\n",
       "      <td>Female</td>\n",
       "      <td>Atypical angina</td>\n",
       "      <td>160</td>\n",
       "      <td>302</td>\n",
       "      <td>162</td>\n",
       "      <td>Three</td>\n",
       "      <td>No</td>\n",
       "    </tr>\n",
       "  </tbody>\n",
       "</table>\n",
       "</div>"
      ],
      "text/plain": [
       "            id  Age  Gender             Type  Blood_pressure  Cholesterol  \\\n",
       "42  Patient_43  710  Female  Atypical angina             160          302   \n",
       "\n",
       "    Heartbeat Thalassemia Result  \n",
       "42        162       Three     No  "
      ]
     },
     "execution_count": 342,
     "metadata": {},
     "output_type": "execute_result"
    }
   ],
   "source": [
    "#Lọc các bệnh nhân có dữ liệu tuổi bất thường\n",
    "data[data['Age']>=115]"
   ]
  },
  {
   "cell_type": "code",
   "execution_count": 344,
   "id": "e7a6e479-b0fe-4dc5-a56a-20464c7b93b1",
   "metadata": {},
   "outputs": [],
   "source": [
    "#Có thể trong quá trình nhập đã bị nhập thừa 1 số 0 --> xử lý: thay thế 710 bằng 71\n",
    "data.loc[42,'Age'] = 71"
   ]
  },
  {
   "cell_type": "code",
   "execution_count": 346,
   "id": "0642a131-8c1f-474f-8661-d614e357e3e4",
   "metadata": {},
   "outputs": [
    {
     "data": {
      "text/html": [
       "<div>\n",
       "<style scoped>\n",
       "    .dataframe tbody tr th:only-of-type {\n",
       "        vertical-align: middle;\n",
       "    }\n",
       "\n",
       "    .dataframe tbody tr th {\n",
       "        vertical-align: top;\n",
       "    }\n",
       "\n",
       "    .dataframe thead th {\n",
       "        text-align: right;\n",
       "    }\n",
       "</style>\n",
       "<table border=\"1\" class=\"dataframe\">\n",
       "  <thead>\n",
       "    <tr style=\"text-align: right;\">\n",
       "      <th></th>\n",
       "      <th>id</th>\n",
       "      <th>Age</th>\n",
       "      <th>Gender</th>\n",
       "      <th>Type</th>\n",
       "      <th>Blood_pressure</th>\n",
       "      <th>Cholesterol</th>\n",
       "      <th>Heartbeat</th>\n",
       "      <th>Thalassemia</th>\n",
       "      <th>Result</th>\n",
       "    </tr>\n",
       "  </thead>\n",
       "  <tbody>\n",
       "    <tr>\n",
       "      <th>42</th>\n",
       "      <td>Patient_43</td>\n",
       "      <td>71</td>\n",
       "      <td>Female</td>\n",
       "      <td>Atypical angina</td>\n",
       "      <td>160</td>\n",
       "      <td>302</td>\n",
       "      <td>162</td>\n",
       "      <td>Three</td>\n",
       "      <td>No</td>\n",
       "    </tr>\n",
       "  </tbody>\n",
       "</table>\n",
       "</div>"
      ],
      "text/plain": [
       "            id  Age  Gender             Type  Blood_pressure  Cholesterol  \\\n",
       "42  Patient_43   71  Female  Atypical angina             160          302   \n",
       "\n",
       "    Heartbeat Thalassemia Result  \n",
       "42        162       Three     No  "
      ]
     },
     "execution_count": 346,
     "metadata": {},
     "output_type": "execute_result"
    }
   ],
   "source": [
    "#Kiểm tra lại\n",
    "data[data['id']=='Patient_43']"
   ]
  },
  {
   "cell_type": "markdown",
   "id": "88dbae79-e870-4ec1-83b1-84772535ae28",
   "metadata": {},
   "source": [
    "# 3. Xử lý dữ liệu missing"
   ]
  },
  {
   "cell_type": "code",
   "execution_count": 349,
   "id": "e9bc47c0-5ce1-4484-ba1c-8fc0486cca26",
   "metadata": {},
   "outputs": [
    {
     "data": {
      "text/plain": [
       "id                0\n",
       "Age               0\n",
       "Gender            0\n",
       "Type              5\n",
       "Blood_pressure    0\n",
       "Cholesterol       0\n",
       "Heartbeat         0\n",
       "Thalassemia       0\n",
       "Result            0\n",
       "dtype: int64"
      ]
     },
     "execution_count": 349,
     "metadata": {},
     "output_type": "execute_result"
    }
   ],
   "source": [
    "#Liệt kê các bản ghi bị thiếu \n",
    "data.isnull().sum()"
   ]
  },
  {
   "cell_type": "code",
   "execution_count": 351,
   "id": "8a0b9989-7330-4d19-b860-26fb54d0ea14",
   "metadata": {},
   "outputs": [
    {
     "data": {
      "text/plain": [
       "Type\n",
       "Asymptomatic        139\n",
       "Non-anginal pain     84\n",
       "Atypical angina      49\n",
       "Typical angina       23\n",
       "Name: count, dtype: int64"
      ]
     },
     "execution_count": 351,
     "metadata": {},
     "output_type": "execute_result"
    }
   ],
   "source": [
    "#Thống kê giá trị của thuộc tính Type\n",
    "data['Type'].value_counts()"
   ]
  },
  {
   "cell_type": "code",
   "execution_count": 353,
   "id": "32e4ef4d-4f1c-434e-b3bb-c960f35c1bfe",
   "metadata": {},
   "outputs": [
    {
     "data": {
      "text/html": [
       "<div>\n",
       "<style scoped>\n",
       "    .dataframe tbody tr th:only-of-type {\n",
       "        vertical-align: middle;\n",
       "    }\n",
       "\n",
       "    .dataframe tbody tr th {\n",
       "        vertical-align: top;\n",
       "    }\n",
       "\n",
       "    .dataframe thead th {\n",
       "        text-align: right;\n",
       "    }\n",
       "</style>\n",
       "<table border=\"1\" class=\"dataframe\">\n",
       "  <thead>\n",
       "    <tr style=\"text-align: right;\">\n",
       "      <th></th>\n",
       "      <th>id</th>\n",
       "      <th>Age</th>\n",
       "      <th>Gender</th>\n",
       "      <th>Type</th>\n",
       "      <th>Blood_pressure</th>\n",
       "      <th>Cholesterol</th>\n",
       "      <th>Heartbeat</th>\n",
       "      <th>Thalassemia</th>\n",
       "      <th>Result</th>\n",
       "    </tr>\n",
       "  </thead>\n",
       "  <tbody>\n",
       "    <tr>\n",
       "      <th>207</th>\n",
       "      <td>Patient_206</td>\n",
       "      <td>58</td>\n",
       "      <td>Male</td>\n",
       "      <td>NaN</td>\n",
       "      <td>128</td>\n",
       "      <td>259</td>\n",
       "      <td>130</td>\n",
       "      <td>7</td>\n",
       "      <td>Yes</td>\n",
       "    </tr>\n",
       "    <tr>\n",
       "      <th>220</th>\n",
       "      <td>Patient_219</td>\n",
       "      <td>59</td>\n",
       "      <td>Male</td>\n",
       "      <td>NaN</td>\n",
       "      <td>138</td>\n",
       "      <td>271</td>\n",
       "      <td>182</td>\n",
       "      <td>Three</td>\n",
       "      <td>No</td>\n",
       "    </tr>\n",
       "    <tr>\n",
       "      <th>252</th>\n",
       "      <td>Patient_251</td>\n",
       "      <td>58</td>\n",
       "      <td>Male</td>\n",
       "      <td>NaN</td>\n",
       "      <td>146</td>\n",
       "      <td>218</td>\n",
       "      <td>105</td>\n",
       "      <td>7</td>\n",
       "      <td>Yes</td>\n",
       "    </tr>\n",
       "    <tr>\n",
       "      <th>272</th>\n",
       "      <td>Patient_271</td>\n",
       "      <td>66</td>\n",
       "      <td>Male</td>\n",
       "      <td>NaN</td>\n",
       "      <td>160</td>\n",
       "      <td>228</td>\n",
       "      <td>138</td>\n",
       "      <td>6</td>\n",
       "      <td>No</td>\n",
       "    </tr>\n",
       "    <tr>\n",
       "      <th>294</th>\n",
       "      <td>Patient_293</td>\n",
       "      <td>63</td>\n",
       "      <td>Male</td>\n",
       "      <td>NaN</td>\n",
       "      <td>140</td>\n",
       "      <td>187</td>\n",
       "      <td>144</td>\n",
       "      <td>7</td>\n",
       "      <td>Yes</td>\n",
       "    </tr>\n",
       "  </tbody>\n",
       "</table>\n",
       "</div>"
      ],
      "text/plain": [
       "              id  Age Gender Type  Blood_pressure  Cholesterol  Heartbeat  \\\n",
       "207  Patient_206   58   Male  NaN             128          259        130   \n",
       "220  Patient_219   59   Male  NaN             138          271        182   \n",
       "252  Patient_251   58   Male  NaN             146          218        105   \n",
       "272  Patient_271   66   Male  NaN             160          228        138   \n",
       "294  Patient_293   63   Male  NaN             140          187        144   \n",
       "\n",
       "    Thalassemia Result  \n",
       "207           7    Yes  \n",
       "220       Three     No  \n",
       "252           7    Yes  \n",
       "272           6     No  \n",
       "294           7    Yes  "
      ]
     },
     "execution_count": 353,
     "metadata": {},
     "output_type": "execute_result"
    }
   ],
   "source": [
    "#Liệt kê các dòng dữ liệu chứa missing của thuộc tính Type\n",
    "data.loc[data[['Type']].isnull().any(axis=1)]"
   ]
  },
  {
   "cell_type": "markdown",
   "id": "d8eccd96-5f6f-4783-8fd0-a4e74838bba3",
   "metadata": {},
   "source": [
    "Nhận xét: Thuộc tính Type có giá trị Asymptomatic được lặp lại nhiều nhất --> thay thế các giá tri bị thiếu bằng Asymptomatic"
   ]
  },
  {
   "cell_type": "code",
   "execution_count": 356,
   "id": "67b70a7c-8270-4dd1-95f5-00e0abd07614",
   "metadata": {},
   "outputs": [],
   "source": [
    "data['Type'].fillna('Asymptomatic', inplace=True)"
   ]
  },
  {
   "cell_type": "code",
   "execution_count": 358,
   "id": "bf10efdc-8216-4fa3-b081-ca38b921853e",
   "metadata": {},
   "outputs": [
    {
     "data": {
      "text/plain": [
       "id                0\n",
       "Age               0\n",
       "Gender            0\n",
       "Type              0\n",
       "Blood_pressure    0\n",
       "Cholesterol       0\n",
       "Heartbeat         0\n",
       "Thalassemia       0\n",
       "Result            0\n",
       "dtype: int64"
      ]
     },
     "execution_count": 358,
     "metadata": {},
     "output_type": "execute_result"
    }
   ],
   "source": [
    "#Kiểm tra lại\n",
    "data.isnull().sum()"
   ]
  },
  {
   "cell_type": "markdown",
   "id": "5c628a2c-11d8-43d7-87ce-8ebe8b0de49f",
   "metadata": {},
   "source": [
    "# 4. Chuẩn hóa dữ liệu"
   ]
  },
  {
   "cell_type": "code",
   "execution_count": 361,
   "id": "11a5cf59-bcec-412f-88fa-45942c3b389e",
   "metadata": {},
   "outputs": [
    {
     "data": {
      "text/plain": [
       "Gender\n",
       "Male      203\n",
       "Female     93\n",
       "F           2\n",
       "M           2\n",
       "Name: count, dtype: int64"
      ]
     },
     "execution_count": 361,
     "metadata": {},
     "output_type": "execute_result"
    }
   ],
   "source": [
    "#Thống kê thuộc tính Gender\n",
    "data['Gender'].value_counts()"
   ]
  },
  {
   "cell_type": "code",
   "execution_count": 363,
   "id": "f161ce2b-fd0e-447c-a291-347c55080892",
   "metadata": {},
   "outputs": [],
   "source": [
    "#Xử lý: Thay thế F = Female, M = Male\n",
    "data.loc[data['Gender']=='M','Gender'] = 'Male'\n",
    "data.loc[data['Gender']=='F', 'Gender'] = 'Female'"
   ]
  },
  {
   "cell_type": "code",
   "execution_count": 365,
   "id": "68c860a7-a3b4-409b-8457-ad9acea778e3",
   "metadata": {},
   "outputs": [
    {
     "data": {
      "text/plain": [
       "Gender\n",
       "Male      205\n",
       "Female     95\n",
       "Name: count, dtype: int64"
      ]
     },
     "execution_count": 365,
     "metadata": {},
     "output_type": "execute_result"
    }
   ],
   "source": [
    "#Kiểm tra lại\n",
    "data['Gender'].value_counts()"
   ]
  },
  {
   "cell_type": "code",
   "execution_count": 367,
   "id": "12cf4887-52ed-41d6-b2fd-f17256a6b496",
   "metadata": {},
   "outputs": [
    {
     "data": {
      "text/plain": [
       "Thalassemia\n",
       "Three    158\n",
       "7        117\n",
       "6         25\n",
       "Name: count, dtype: int64"
      ]
     },
     "execution_count": 367,
     "metadata": {},
     "output_type": "execute_result"
    }
   ],
   "source": [
    "#Thống kê thuộc tính Thalassemia\n",
    "data['Thalassemia'].value_counts()"
   ]
  },
  {
   "cell_type": "code",
   "execution_count": 369,
   "id": "60a898ed-e187-43d1-aab9-fb7e32d03062",
   "metadata": {},
   "outputs": [],
   "source": [
    "#Xử lý: Thay thế Three bằng 3\n",
    "data.loc[data['Thalassemia']=='Three','Thalassemia'] = 3"
   ]
  },
  {
   "cell_type": "code",
   "execution_count": 371,
   "id": "09f6562d-7ff7-4b2b-8b4e-ff226396e1b7",
   "metadata": {},
   "outputs": [
    {
     "data": {
      "text/plain": [
       "Thalassemia\n",
       "3    158\n",
       "7    117\n",
       "6     25\n",
       "Name: count, dtype: int64"
      ]
     },
     "execution_count": 371,
     "metadata": {},
     "output_type": "execute_result"
    }
   ],
   "source": [
    "#Kiểm tra lại\n",
    "data['Thalassemia'].value_counts()"
   ]
  },
  {
   "cell_type": "markdown",
   "id": "59b936bc-b0c9-46f0-a925-451ba0529e21",
   "metadata": {},
   "source": [
    "# Quan sát lại dữ liệu sau khi đã xử lý"
   ]
  },
  {
   "cell_type": "code",
   "execution_count": 374,
   "id": "df31cdff-cc71-4a8d-b1f7-59b1d23f7eca",
   "metadata": {},
   "outputs": [
    {
     "data": {
      "text/html": [
       "<div>\n",
       "<style scoped>\n",
       "    .dataframe tbody tr th:only-of-type {\n",
       "        vertical-align: middle;\n",
       "    }\n",
       "\n",
       "    .dataframe tbody tr th {\n",
       "        vertical-align: top;\n",
       "    }\n",
       "\n",
       "    .dataframe thead th {\n",
       "        text-align: right;\n",
       "    }\n",
       "</style>\n",
       "<table border=\"1\" class=\"dataframe\">\n",
       "  <thead>\n",
       "    <tr style=\"text-align: right;\">\n",
       "      <th></th>\n",
       "      <th>Age</th>\n",
       "      <th>Blood_pressure</th>\n",
       "      <th>Cholesterol</th>\n",
       "      <th>Heartbeat</th>\n",
       "    </tr>\n",
       "  </thead>\n",
       "  <tbody>\n",
       "    <tr>\n",
       "      <th>count</th>\n",
       "      <td>300.000000</td>\n",
       "      <td>300.000000</td>\n",
       "      <td>300.000000</td>\n",
       "      <td>300.000000</td>\n",
       "    </tr>\n",
       "    <tr>\n",
       "      <th>mean</th>\n",
       "      <td>54.490000</td>\n",
       "      <td>131.686667</td>\n",
       "      <td>247.070000</td>\n",
       "      <td>149.030000</td>\n",
       "    </tr>\n",
       "    <tr>\n",
       "      <th>std</th>\n",
       "      <td>9.032267</td>\n",
       "      <td>17.682498</td>\n",
       "      <td>51.835136</td>\n",
       "      <td>24.389587</td>\n",
       "    </tr>\n",
       "    <tr>\n",
       "      <th>min</th>\n",
       "      <td>29.000000</td>\n",
       "      <td>94.000000</td>\n",
       "      <td>126.000000</td>\n",
       "      <td>0.000000</td>\n",
       "    </tr>\n",
       "    <tr>\n",
       "      <th>25%</th>\n",
       "      <td>48.000000</td>\n",
       "      <td>120.000000</td>\n",
       "      <td>211.000000</td>\n",
       "      <td>133.000000</td>\n",
       "    </tr>\n",
       "    <tr>\n",
       "      <th>50%</th>\n",
       "      <td>56.000000</td>\n",
       "      <td>130.000000</td>\n",
       "      <td>242.500000</td>\n",
       "      <td>152.000000</td>\n",
       "    </tr>\n",
       "    <tr>\n",
       "      <th>75%</th>\n",
       "      <td>61.000000</td>\n",
       "      <td>140.000000</td>\n",
       "      <td>275.250000</td>\n",
       "      <td>165.250000</td>\n",
       "    </tr>\n",
       "    <tr>\n",
       "      <th>max</th>\n",
       "      <td>77.000000</td>\n",
       "      <td>200.000000</td>\n",
       "      <td>564.000000</td>\n",
       "      <td>202.000000</td>\n",
       "    </tr>\n",
       "  </tbody>\n",
       "</table>\n",
       "</div>"
      ],
      "text/plain": [
       "              Age  Blood_pressure  Cholesterol   Heartbeat\n",
       "count  300.000000      300.000000   300.000000  300.000000\n",
       "mean    54.490000      131.686667   247.070000  149.030000\n",
       "std      9.032267       17.682498    51.835136   24.389587\n",
       "min     29.000000       94.000000   126.000000    0.000000\n",
       "25%     48.000000      120.000000   211.000000  133.000000\n",
       "50%     56.000000      130.000000   242.500000  152.000000\n",
       "75%     61.000000      140.000000   275.250000  165.250000\n",
       "max     77.000000      200.000000   564.000000  202.000000"
      ]
     },
     "execution_count": 374,
     "metadata": {},
     "output_type": "execute_result"
    }
   ],
   "source": [
    "data.describe()"
   ]
  },
  {
   "cell_type": "code",
   "execution_count": 376,
   "id": "fa942445-773b-404b-b6ff-8b5fe386bc16",
   "metadata": {},
   "outputs": [
    {
     "data": {
      "text/html": [
       "<div>\n",
       "<style scoped>\n",
       "    .dataframe tbody tr th:only-of-type {\n",
       "        vertical-align: middle;\n",
       "    }\n",
       "\n",
       "    .dataframe tbody tr th {\n",
       "        vertical-align: top;\n",
       "    }\n",
       "\n",
       "    .dataframe thead th {\n",
       "        text-align: right;\n",
       "    }\n",
       "</style>\n",
       "<table border=\"1\" class=\"dataframe\">\n",
       "  <thead>\n",
       "    <tr style=\"text-align: right;\">\n",
       "      <th></th>\n",
       "      <th>id</th>\n",
       "      <th>Gender</th>\n",
       "      <th>Type</th>\n",
       "      <th>Thalassemia</th>\n",
       "      <th>Result</th>\n",
       "    </tr>\n",
       "  </thead>\n",
       "  <tbody>\n",
       "    <tr>\n",
       "      <th>count</th>\n",
       "      <td>300</td>\n",
       "      <td>300</td>\n",
       "      <td>300</td>\n",
       "      <td>300</td>\n",
       "      <td>300</td>\n",
       "    </tr>\n",
       "    <tr>\n",
       "      <th>unique</th>\n",
       "      <td>300</td>\n",
       "      <td>2</td>\n",
       "      <td>4</td>\n",
       "      <td>3</td>\n",
       "      <td>2</td>\n",
       "    </tr>\n",
       "    <tr>\n",
       "      <th>top</th>\n",
       "      <td>Patient_01</td>\n",
       "      <td>Male</td>\n",
       "      <td>Asymptomatic</td>\n",
       "      <td>3</td>\n",
       "      <td>No</td>\n",
       "    </tr>\n",
       "    <tr>\n",
       "      <th>freq</th>\n",
       "      <td>1</td>\n",
       "      <td>205</td>\n",
       "      <td>144</td>\n",
       "      <td>158</td>\n",
       "      <td>162</td>\n",
       "    </tr>\n",
       "  </tbody>\n",
       "</table>\n",
       "</div>"
      ],
      "text/plain": [
       "                id Gender          Type  Thalassemia Result\n",
       "count          300    300           300          300    300\n",
       "unique         300      2             4            3      2\n",
       "top     Patient_01   Male  Asymptomatic            3     No\n",
       "freq             1    205           144          158    162"
      ]
     },
     "execution_count": 376,
     "metadata": {},
     "output_type": "execute_result"
    }
   ],
   "source": [
    "data.describe(include='O')"
   ]
  },
  {
   "cell_type": "code",
   "execution_count": null,
   "id": "83ea3cfa-5527-47d0-be4c-e4878f65cde8",
   "metadata": {},
   "outputs": [],
   "source": []
  },
  {
   "cell_type": "markdown",
   "id": "5d27c653-4bd6-4043-941c-c80dd20960f0",
   "metadata": {},
   "source": [
    "# Lưu ra file .excel(xlsx)"
   ]
  },
  {
   "cell_type": "code",
   "execution_count": 381,
   "id": "7a522a85-a0af-452f-bfc9-1efbdc4b51e6",
   "metadata": {},
   "outputs": [],
   "source": [
    "data.to_excel('Data_Patient_Heart_Attack_OK.xlsx', index=None)"
   ]
  },
  {
   "cell_type": "code",
   "execution_count": null,
   "id": "85962960-04fc-441c-9adf-054e3e71b58f",
   "metadata": {},
   "outputs": [],
   "source": []
  }
 ],
 "metadata": {
  "kernelspec": {
   "display_name": "Python [conda env:base] *",
   "language": "python",
   "name": "conda-base-py"
  },
  "language_info": {
   "codemirror_mode": {
    "name": "ipython",
    "version": 3
   },
   "file_extension": ".py",
   "mimetype": "text/x-python",
   "name": "python",
   "nbconvert_exporter": "python",
   "pygments_lexer": "ipython3",
   "version": "3.12.7"
  }
 },
 "nbformat": 4,
 "nbformat_minor": 5
}
