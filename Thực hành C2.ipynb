{
 "cells": [
  {
   "cell_type": "code",
   "execution_count": 1,
   "metadata": {},
   "outputs": [
    {
     "name": "stdout",
     "output_type": "stream",
     "text": [
      "<class 'pandas.core.frame.DataFrame'>\n",
      "RangeIndex: 9 entries, 0 to 8\n",
      "Data columns (total 5 columns):\n",
      " #   Column             Non-Null Count  Dtype  \n",
      "---  ------             --------------  -----  \n",
      " 0   Name               9 non-null      object \n",
      " 1   Gender             9 non-null      object \n",
      " 2   Age                9 non-null      int64  \n",
      " 3   Degree             9 non-null      object \n",
      " 4   Salary (x1000USD)  9 non-null      float64\n",
      "dtypes: float64(1), int64(1), object(3)\n",
      "memory usage: 488.0+ bytes\n"
     ]
    }
   ],
   "source": [
    "import pandas as pd\n",
    "data = pd.read_excel(r\"C:\\Users\\PC\\Documents\\Khai phá dữ liệu\\Data chương 2\\Data_Example.xlsx\")\n",
    "data.info()"
   ]
  },
  {
   "cell_type": "code",
   "execution_count": 2,
   "metadata": {},
   "outputs": [
    {
     "data": {
      "text/html": [
       "<div>\n",
       "<style scoped>\n",
       "    .dataframe tbody tr th:only-of-type {\n",
       "        vertical-align: middle;\n",
       "    }\n",
       "\n",
       "    .dataframe tbody tr th {\n",
       "        vertical-align: top;\n",
       "    }\n",
       "\n",
       "    .dataframe thead th {\n",
       "        text-align: right;\n",
       "    }\n",
       "</style>\n",
       "<table border=\"1\" class=\"dataframe\">\n",
       "  <thead>\n",
       "    <tr style=\"text-align: right;\">\n",
       "      <th></th>\n",
       "      <th>Age</th>\n",
       "      <th>Salary (x1000USD)</th>\n",
       "    </tr>\n",
       "  </thead>\n",
       "  <tbody>\n",
       "    <tr>\n",
       "      <th>count</th>\n",
       "      <td>9.000000</td>\n",
       "      <td>9.000000</td>\n",
       "    </tr>\n",
       "    <tr>\n",
       "      <th>mean</th>\n",
       "      <td>39.000000</td>\n",
       "      <td>2.357778</td>\n",
       "    </tr>\n",
       "    <tr>\n",
       "      <th>std</th>\n",
       "      <td>10.943034</td>\n",
       "      <td>0.647433</td>\n",
       "    </tr>\n",
       "    <tr>\n",
       "      <th>min</th>\n",
       "      <td>24.000000</td>\n",
       "      <td>1.250000</td>\n",
       "    </tr>\n",
       "    <tr>\n",
       "      <th>25%</th>\n",
       "      <td>30.000000</td>\n",
       "      <td>1.930000</td>\n",
       "    </tr>\n",
       "    <tr>\n",
       "      <th>50%</th>\n",
       "      <td>42.000000</td>\n",
       "      <td>2.430000</td>\n",
       "    </tr>\n",
       "    <tr>\n",
       "      <th>75%</th>\n",
       "      <td>45.000000</td>\n",
       "      <td>2.980000</td>\n",
       "    </tr>\n",
       "    <tr>\n",
       "      <th>max</th>\n",
       "      <td>55.000000</td>\n",
       "      <td>3.130000</td>\n",
       "    </tr>\n",
       "  </tbody>\n",
       "</table>\n",
       "</div>"
      ],
      "text/plain": [
       "             Age  Salary (x1000USD)\n",
       "count   9.000000           9.000000\n",
       "mean   39.000000           2.357778\n",
       "std    10.943034           0.647433\n",
       "min    24.000000           1.250000\n",
       "25%    30.000000           1.930000\n",
       "50%    42.000000           2.430000\n",
       "75%    45.000000           2.980000\n",
       "max    55.000000           3.130000"
      ]
     },
     "execution_count": 2,
     "metadata": {},
     "output_type": "execute_result"
    }
   ],
   "source": [
    "#Xác định đặc trưng\n",
    "data.describe()"
   ]
  },
  {
   "cell_type": "code",
   "execution_count": 4,
   "metadata": {},
   "outputs": [
    {
     "data": {
      "text/html": [
       "<div>\n",
       "<style scoped>\n",
       "    .dataframe tbody tr th:only-of-type {\n",
       "        vertical-align: middle;\n",
       "    }\n",
       "\n",
       "    .dataframe tbody tr th {\n",
       "        vertical-align: top;\n",
       "    }\n",
       "\n",
       "    .dataframe thead th {\n",
       "        text-align: right;\n",
       "    }\n",
       "</style>\n",
       "<table border=\"1\" class=\"dataframe\">\n",
       "  <thead>\n",
       "    <tr style=\"text-align: right;\">\n",
       "      <th></th>\n",
       "      <th>Name</th>\n",
       "      <th>Gender</th>\n",
       "      <th>Degree</th>\n",
       "    </tr>\n",
       "  </thead>\n",
       "  <tbody>\n",
       "    <tr>\n",
       "      <th>count</th>\n",
       "      <td>9</td>\n",
       "      <td>9</td>\n",
       "      <td>9</td>\n",
       "    </tr>\n",
       "    <tr>\n",
       "      <th>unique</th>\n",
       "      <td>8</td>\n",
       "      <td>2</td>\n",
       "      <td>3</td>\n",
       "    </tr>\n",
       "    <tr>\n",
       "      <th>top</th>\n",
       "      <td>Robert</td>\n",
       "      <td>Male</td>\n",
       "      <td>Ph.D</td>\n",
       "    </tr>\n",
       "    <tr>\n",
       "      <th>freq</th>\n",
       "      <td>2</td>\n",
       "      <td>6</td>\n",
       "      <td>4</td>\n",
       "    </tr>\n",
       "  </tbody>\n",
       "</table>\n",
       "</div>"
      ],
      "text/plain": [
       "          Name Gender Degree\n",
       "count        9      9      9\n",
       "unique       8      2      3\n",
       "top     Robert   Male   Ph.D\n",
       "freq         2      6      4"
      ]
     },
     "execution_count": 4,
     "metadata": {},
     "output_type": "execute_result"
    }
   ],
   "source": [
    "data.describe(include='O')"
   ]
  },
  {
   "cell_type": "code",
   "execution_count": 5,
   "metadata": {},
   "outputs": [
    {
     "data": {
      "text/plain": [
       "count     9.000000\n",
       "mean     39.000000\n",
       "std      10.943034\n",
       "min      24.000000\n",
       "25%      30.000000\n",
       "50%      42.000000\n",
       "75%      45.000000\n",
       "max      55.000000\n",
       "Name: Age, dtype: float64"
      ]
     },
     "execution_count": 5,
     "metadata": {},
     "output_type": "execute_result"
    }
   ],
   "source": [
    "#Xác định đặc trưng thuộc tính tuổi\n",
    "data['Age'].describe()"
   ]
  },
  {
   "cell_type": "code",
   "execution_count": 6,
   "metadata": {},
   "outputs": [
    {
     "name": "stdout",
     "output_type": "stream",
     "text": [
      "Mean của thuộc tính Age là: 39.0\n"
     ]
    }
   ],
   "source": [
    "#Mean: Giá trị trung bình\n",
    "mean_age=data['Age'].mean()\n",
    "print('Mean của thuộc tính Age là:',mean_age)"
   ]
  },
  {
   "cell_type": "code",
   "execution_count": 7,
   "metadata": {},
   "outputs": [
    {
     "name": "stdout",
     "output_type": "stream",
     "text": [
      "Median của thuộc tính Age là: 42.0\n"
     ]
    }
   ],
   "source": [
    "#Median: Giá trị trung vị \n",
    "median_age=data['Age'].median()\n",
    "print('Median của thuộc tính Age là:',median_age)"
   ]
  },
  {
   "cell_type": "code",
   "execution_count": 8,
   "metadata": {},
   "outputs": [
    {
     "name": "stdout",
     "output_type": "stream",
     "text": [
      "Mode của thuộc tính Age là: 0    45\n",
      "dtype: int64\n"
     ]
    }
   ],
   "source": [
    "#Mode: Giá trị xuất hiện nhiều nhất\n",
    "mode_age=data['Age'].mode()\n",
    "print('Mode của thuộc tính Age là:',mode_age)"
   ]
  },
  {
   "cell_type": "code",
   "execution_count": 10,
   "metadata": {},
   "outputs": [
    {
     "data": {
      "text/plain": [
       "count    9.000000\n",
       "mean     2.357778\n",
       "std      0.647433\n",
       "min      1.250000\n",
       "25%      1.930000\n",
       "50%      2.430000\n",
       "75%      2.980000\n",
       "max      3.130000\n",
       "Name: Salary (x1000USD), dtype: float64"
      ]
     },
     "execution_count": 10,
     "metadata": {},
     "output_type": "execute_result"
    }
   ],
   "source": [
    "#Xác định đặc trưng thuộc tính Salary\n",
    "data['Salary (x1000USD)'].describe()"
   ]
  },
  {
   "cell_type": "code",
   "execution_count": 12,
   "metadata": {},
   "outputs": [
    {
     "name": "stdout",
     "output_type": "stream",
     "text": [
      "Mean của thuộc tính lương là: 2.3577777777777778\n"
     ]
    }
   ],
   "source": [
    "#Mean: Giá trị trung bình\n",
    "mean_salary=data['Salary (x1000USD)'].mean()\n",
    "print('Mean của thuộc tính lương là:',mean_salary)"
   ]
  },
  {
   "cell_type": "code",
   "execution_count": 13,
   "metadata": {},
   "outputs": [
    {
     "name": "stdout",
     "output_type": "stream",
     "text": [
      "Median của thuộc tính lương là: 2.43\n"
     ]
    }
   ],
   "source": [
    "median_salary=data['Salary (x1000USD)'].median()\n",
    "print('Median của thuộc tính lương là:',median_salary)"
   ]
  },
  {
   "cell_type": "code",
   "execution_count": 14,
   "metadata": {},
   "outputs": [
    {
     "name": "stdout",
     "output_type": "stream",
     "text": [
      "Mode của thuộc tính lương là: 0    1.25\n",
      "1    1.75\n",
      "2    1.93\n",
      "3    2.12\n",
      "4    2.43\n",
      "5    2.58\n",
      "6    2.98\n",
      "7    3.05\n",
      "8    3.13\n",
      "dtype: float64\n"
     ]
    }
   ],
   "source": [
    "mode_salary=data['Salary (x1000USD)'].mode()\n",
    "print('Mode của thuộc tính lương là:',mode_salary)"
   ]
  },
  {
   "cell_type": "code",
   "execution_count": 19,
   "metadata": {},
   "outputs": [
    {
     "name": "stdout",
     "output_type": "stream",
     "text": [
      "Mode của thuộc tính Gender là: 0    Male\n",
      "dtype: object\n"
     ]
    }
   ],
   "source": [
    "#Mode của Gender\n",
    "mode_gender=data['Gender'].mode()\n",
    "print('Mode của thuộc tính Gender là:',mode_gender)"
   ]
  },
  {
   "cell_type": "code",
   "execution_count": 21,
   "metadata": {},
   "outputs": [
    {
     "name": "stdout",
     "output_type": "stream",
     "text": [
      "Mode của thuộc tính Degree là: Ph.D\n"
     ]
    }
   ],
   "source": [
    "#Mode của Degree\n",
    "mode_degree=data['Degree'].mode()[0]\n",
    "print('Mode của thuộc tính Degree là:',mode_degree)"
   ]
  },
  {
   "cell_type": "code",
   "execution_count": 22,
   "metadata": {},
   "outputs": [
    {
     "name": "stdout",
     "output_type": "stream",
     "text": [
      "Range của thuộc tính Age: 31\n"
     ]
    }
   ],
   "source": [
    "#Phạm vi của thuộc tính tuổi: Range\n",
    "range_age=data['Age'].max()-data['Age'].min()\n",
    "print('Range của thuộc tính Age:', range_age)"
   ]
  },
  {
   "cell_type": "code",
   "execution_count": 24,
   "metadata": {},
   "outputs": [
    {
     "name": "stdout",
     "output_type": "stream",
     "text": [
      "Variance của thuộc tính Age là: 119.75\n"
     ]
    }
   ],
   "source": [
    "#Phương sai: Variance\n",
    "var_age=data['Age'].var()\n",
    "print('Variance của thuộc tính Age là:',var_age)"
   ]
  },
  {
   "cell_type": "code",
   "execution_count": 25,
   "metadata": {},
   "outputs": [
    {
     "name": "stdout",
     "output_type": "stream",
     "text": [
      "Std của thuộc tính Age là: 10.943034314119645\n"
     ]
    }
   ],
   "source": [
    "#Độ lệch chuẩn: Standard deviation\n",
    "std_age=data['Age'].std()\n",
    "print('Std của thuộc tính Age là:', std_age)"
   ]
  },
  {
   "cell_type": "code",
   "execution_count": 26,
   "metadata": {},
   "outputs": [
    {
     "name": "stdout",
     "output_type": "stream",
     "text": [
      "Range của thuộc tính salary: 1.88\n"
     ]
    }
   ],
   "source": [
    "#Phạm vi của thuộc tính Salary\n",
    "range_salary=data['Salary (x1000USD)'].max()-data['Salary (x1000USD)'].min()\n",
    "print('Range của thuộc tính salary:', range_salary)"
   ]
  },
  {
   "cell_type": "code",
   "execution_count": 27,
   "metadata": {},
   "outputs": [
    {
     "name": "stdout",
     "output_type": "stream",
     "text": [
      "Variance của thuộc tính salary là: 0.4191694444444445\n"
     ]
    }
   ],
   "source": [
    "#Phương sai: Variance\n",
    "var_salary=data['Salary (x1000USD)'].var()\n",
    "print('Variance của thuộc tính salary là:',var_salary)"
   ]
  },
  {
   "cell_type": "code",
   "execution_count": 29,
   "metadata": {},
   "outputs": [
    {
     "name": "stdout",
     "output_type": "stream",
     "text": [
      "Std của thuộc tính salary là: 0.6474329652129589\n"
     ]
    }
   ],
   "source": [
    "#Độ lệch chuẩn: Standard deviation\n",
    "std_salary=data['Salary (x1000USD)'].std()\n",
    "print('Std của thuộc tính salary là:', std_salary)"
   ]
  },
  {
   "cell_type": "code",
   "execution_count": 30,
   "metadata": {},
   "outputs": [
    {
     "name": "stdout",
     "output_type": "stream",
     "text": [
      "Q1 của thuộc tính Age: 30.0\n",
      "Q2 của thuộc tính Age: 42.0\n",
      "Q3 của thuộc tính Age: 45.0\n"
     ]
    }
   ],
   "source": [
    "#Xác định Q1, Q2, Q3 và IQR\n",
    "q1_age=data['Age'].quantile(0.25)\n",
    "q2_age=data['Age'].quantile(0.5)\n",
    "q3_age=data['Age'].quantile(0.75)\n",
    "print('Q1 của thuộc tính Age:',q1_age)\n",
    "print('Q2 của thuộc tính Age:',q2_age)\n",
    "print('Q3 của thuộc tính Age:',q3_age)"
   ]
  },
  {
   "cell_type": "code",
   "execution_count": 31,
   "metadata": {},
   "outputs": [
    {
     "name": "stdout",
     "output_type": "stream",
     "text": [
      "IQR của thuộc tính Age: 15.0\n"
     ]
    }
   ],
   "source": [
    "#Tính độ trải giữa IQR\n",
    "iqr_age=q3_age - q1_age\n",
    "print('IQR của thuộc tính Age:',iqr_age)"
   ]
  },
  {
   "cell_type": "code",
   "execution_count": 32,
   "metadata": {},
   "outputs": [
    {
     "name": "stdout",
     "output_type": "stream",
     "text": [
      "Q1 của thuộc tính salary: 1.93\n",
      "Q2 của thuộc tính salary: 2.43\n",
      "Q3 của thuộc tính salary: 2.98\n"
     ]
    }
   ],
   "source": [
    "q1_salary=data['Salary (x1000USD)'].quantile(0.25)\n",
    "q2_salary=data['Salary (x1000USD)'].quantile(0.5)\n",
    "q3_salary=data['Salary (x1000USD)'].quantile(0.75)\n",
    "print('Q1 của thuộc tính salary:',q1_salary)\n",
    "print('Q2 của thuộc tính salary:',q2_salary)\n",
    "print('Q3 của thuộc tính salary:',q3_salary)"
   ]
  },
  {
   "cell_type": "code",
   "execution_count": 34,
   "metadata": {},
   "outputs": [
    {
     "name": "stdout",
     "output_type": "stream",
     "text": [
      "IQR của thuộc tính salary: 1.05\n"
     ]
    }
   ],
   "source": [
    "iqr_salary=q3_salary - q1_salary\n",
    "print('IQR của thuộc tính salary:',iqr_salary)"
   ]
  },
  {
   "cell_type": "code",
   "execution_count": 35,
   "metadata": {},
   "outputs": [
    {
     "name": "stdout",
     "output_type": "stream",
     "text": [
      "Hệ số tương quan giữa Age và Salary: 0.8013543030936948\n"
     ]
    }
   ],
   "source": [
    "#Tính hệ số tương quan\n",
    "corr_age_salary=data['Age'].corr(data['Salary (x1000USD)'])\n",
    "print('Hệ số tương quan giữa Age và Salary:', corr_age_salary)"
   ]
  },
  {
   "cell_type": "code",
   "execution_count": 37,
   "metadata": {},
   "outputs": [
    {
     "data": {
      "image/png": "[encoded data removed]",
      "text/plain": [
       "<Figure size 432x288 with 1 Axes>"
      ]
     },
     "metadata": {
      "needs_background": "light"
     },
     "output_type": "display_data"
    }
   ],
   "source": [
    "#Trực quan hóa\n",
    "import matplotlib.pyplot as plt\n",
    "plt.scatter(data['Age'],data['Salary (x1000USD)'], marker='*', s=100, color='green')\n",
    "plt.title('Đồ thị thể hiện mối tương quan giữa Age và Salary')\n",
    "plt.grid(ls='--')\n",
    "plt.show()"
   ]
  },
  {
   "cell_type": "code",
   "execution_count": null,
   "metadata": {},
   "outputs": [],
   "source": []
  }
 ],
 "metadata": {
  "kernelspec": {
   "display_name": "Python 3",
   "language": "python",
   "name": "python3"
  },
  "language_info": {
   "codemirror_mode": {
    "name": "ipython",
    "version": 3
   },
   "file_extension": ".py",
   "mimetype": "text/x-python",
   "name": "python",
   "nbconvert_exporter": "python",
   "pygments_lexer": "ipython3",
   "version": "3.7.1"
  }
 },
 "nbformat": 4,
 "nbformat_minor": 2
}
