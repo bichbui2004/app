{
 "cells": [
  {
   "cell_type": "code",
   "execution_count": 469,
   "id": "540b1bc4-d5e6-4c3a-840a-f37f1cde8053",
   "metadata": {},
   "outputs": [],
   "source": [
    "#Gọi thư viện\n",
    "import pandas as pd\n",
    "import numpy as np\n",
    "import matplotlib.pyplot as plt\n",
    "import warnings\n",
    "warnings.filterwarnings('ignore')"
   ]
  },
  {
   "cell_type": "code",
   "execution_count": 471,
   "id": "07d98468-b07c-4b33-b4a5-40e215c4d04b",
   "metadata": {},
   "outputs": [
    {
     "name": "stdout",
     "output_type": "stream",
     "text": [
      "<class 'pandas.core.frame.DataFrame'>\n",
      "RangeIndex: 302 entries, 0 to 301\n",
      "Data columns (total 9 columns):\n",
      " #   Column          Non-Null Count  Dtype \n",
      "---  ------          --------------  ----- \n",
      " 0   id              302 non-null    object\n",
      " 1   Age             302 non-null    int64 \n",
      " 2   Gender          302 non-null    object\n",
      " 3   Type            297 non-null    object\n",
      " 4   Blood_pressure  302 non-null    int64 \n",
      " 5   Cholesterol     302 non-null    int64 \n",
      " 6   Heartbeat       302 non-null    int64 \n",
      " 7   Thalassemia     302 non-null    object\n",
      " 8   Result          302 non-null    object\n",
      "dtypes: int64(4), object(5)\n",
      "memory usage: 21.4+ KB\n"
     ]
    }
   ],
   "source": [
    "#Đọc dữ liệu\n",
    "data = pd.read_excel(r\"C:\\Users\\PC\\Documents\\Khai phá dữ liệu\\Data_Patient_Heart_Attack.xlsx\")\n",
    "#Hiển thị thông tin dữ liệu\n",
    "data.info()"
   ]
  },
  {
   "cell_type": "code",
   "execution_count": 473,
   "id": "c02ac42c-73d9-4f8a-942b-34a3f25b96c1",
   "metadata": {},
   "outputs": [
    {
     "name": "stdout",
     "output_type": "stream",
     "text": [
      "           id  Age Gender              Type  Blood_pressure  Cholesterol  \\\n",
      "0  Patient_01   63   Male    Typical angina             145          233   \n",
      "1  Patient_02   67   Male      Asymptomatic             160          286   \n",
      "2  Patient_03   67   Male      Asymptomatic             120          229   \n",
      "3  Patient_04   37   Male  Non-anginal pain             130          250   \n",
      "4  Patient_05   41      F   Atypical angina             130          204   \n",
      "\n",
      "   Heartbeat Thalassemia Result  \n",
      "0        150           6     No  \n",
      "1        108       Three    Yes  \n",
      "2        129           7    Yes  \n",
      "3        187       Three     No  \n",
      "4        172           6     No  \n"
     ]
    }
   ],
   "source": [
    "#Hiển thị dữ liệu\n",
    "print(data.head())"
   ]
  },
  {
   "cell_type": "code",
   "execution_count": 475,
   "id": "ecd53726-b057-4ea8-b4df-38f0988c9e2e",
   "metadata": {},
   "outputs": [
    {
     "name": "stdout",
     "output_type": "stream",
     "text": [
      "              Age  Blood_pressure  Cholesterol   Heartbeat\n",
      "count  302.000000      302.000000   302.000000  302.000000\n",
      "mean    56.582781      131.642384   246.844371  148.870861\n",
      "std     38.773361       17.632025    51.736737   24.386694\n",
      "min     29.000000       94.000000   126.000000    0.000000\n",
      "25%     48.000000      120.000000   211.250000  132.250000\n",
      "50%     55.500000      130.000000   241.500000  152.000000\n",
      "75%     61.000000      140.000000   275.000000  165.000000\n",
      "max    710.000000      200.000000   564.000000  202.000000\n"
     ]
    }
   ],
   "source": [
    "#Quan sát dữ liệu số\n",
    "print(data.describe())"
   ]
  },
  {
   "cell_type": "code",
   "execution_count": 477,
   "id": "fa517ce4-c474-4c53-b8a0-989e2c1192d9",
   "metadata": {},
   "outputs": [
    {
     "name": "stdout",
     "output_type": "stream",
     "text": [
      "                id Gender          Type Thalassemia Result\n",
      "count          302    302           297         302    302\n",
      "unique         292      4             4           3      2\n",
      "top     Patient_60   Male  Asymptomatic       Three     No\n",
      "freq             3    205           139         160    164\n"
     ]
    }
   ],
   "source": [
    "#Quan sát dữ liệu object\n",
    "print(data.describe(include='O'))"
   ]
  },
  {
   "cell_type": "code",
   "execution_count": 479,
   "id": "0bec653a-fb21-4eaf-994a-6608a2499f9c",
   "metadata": {},
   "outputs": [
    {
     "name": "stdout",
     "output_type": "stream",
     "text": [
      "2\n"
     ]
    }
   ],
   "source": [
    "#Kiểm tra dữ liệu trùng lặp\n",
    "print(data.duplicated().sum())"
   ]
  },
  {
   "cell_type": "markdown",
   "id": "8fabb83b-7e58-43be-b50b-f00009451f17",
   "metadata": {},
   "source": [
    "**NHẬN XÉT:** Các vấn đề cần xử lý\n",
    "- Xử lý dữ liệu trùng lặp\n",
    "- Xử lý dữ liệu ngoại lai (Thuộc tính Age)\n",
    "- Xử lý dữ liệu missing \n",
    "- Chuẩn hóa dữ liệu cột Gender"
   ]
  },
  {
   "cell_type": "markdown",
   "id": "38755d60-e691-40d3-b9ae-c877b7080d2b",
   "metadata": {},
   "source": [
    "# 1. Xử lý dữ liệu trùng lặp"
   ]
  },
  {
   "cell_type": "code",
   "execution_count": 407,
   "id": "43e69836-da80-412e-a3be-9c36828e0118",
   "metadata": {},
   "outputs": [
    {
     "name": "stdout",
     "output_type": "stream",
     "text": [
      "            id  Age Gender            Type  Blood_pressure  Cholesterol  \\\n",
      "59  Patient_60   51   Male  Typical angina             125          213   \n",
      "60  Patient_60   51   Male  Typical angina             125          213   \n",
      "61  Patient_60   51   Male  Typical angina             125          213   \n",
      "\n",
      "    Heartbeat Thalassemia Result  \n",
      "59        125       Three     No  \n",
      "60        125       Three     No  \n",
      "61        125       Three     No  \n"
     ]
    }
   ],
   "source": [
    "#Lọc các bản ghi trùng lặp\n",
    "print(data[data.duplicated(keep=False)])"
   ]
  },
  {
   "cell_type": "code",
   "execution_count": 408,
   "id": "65992399-8c0c-4b05-bd8b-77acce1c364c",
   "metadata": {},
   "outputs": [],
   "source": [
    "#Xóa các bản ghi trùng lặp\n",
    "data.drop_duplicates(keep='first',inplace=True)"
   ]
  },
  {
   "cell_type": "code",
   "execution_count": 409,
   "id": "1c9013e5-feb1-4e20-9899-34c28d9a822e",
   "metadata": {},
   "outputs": [
    {
     "name": "stdout",
     "output_type": "stream",
     "text": [
      "0\n"
     ]
    }
   ],
   "source": [
    "#Kiểm tra lại\n",
    "print(data.duplicated().sum())"
   ]
  },
  {
   "cell_type": "code",
   "execution_count": 410,
   "id": "586e70a8-6fef-4f8e-83c7-31390e1f73f1",
   "metadata": {},
   "outputs": [
    {
     "name": "stdout",
     "output_type": "stream",
     "text": [
      "              id  Age  Gender              Type  Blood_pressure  Cholesterol  \\\n",
      "10   Patient_110   57    Male      Asymptomatic             140          192   \n",
      "11   Patient_120   56  Female   Atypical angina             140          294   \n",
      "12   Patient_130   56    Male  Non-anginal pain             130          256   \n",
      "13   Patient_140   44    Male   Atypical angina             120          263   \n",
      "14   Patient_150   52    Male  Non-anginal pain             172          199   \n",
      "16   Patient_170   48    Male   Atypical angina             110          229   \n",
      "17   Patient_180   54    Male      Asymptomatic             140          239   \n",
      "19   Patient_200   49    Male   Atypical angina             130          266   \n",
      "111  Patient_110   61  Female      Asymptomatic             145          307   \n",
      "121  Patient_120   48    Male      Asymptomatic             130          256   \n",
      "131  Patient_130   54    Male  Non-anginal pain             120          258   \n",
      "141  Patient_140   59    Male   Atypical angina             140          221   \n",
      "151  Patient_150   52    Male    Typical angina             152          298   \n",
      "171  Patient_170   70    Male  Non-anginal pain             160          269   \n",
      "181  Patient_180   48    Male      Asymptomatic             124          274   \n",
      "201  Patient_200   50  Female      Asymptomatic             110          254   \n",
      "\n",
      "     Heartbeat Thalassemia Result  \n",
      "10         148           6     No  \n",
      "11         153       Three     No  \n",
      "12         142           6    Yes  \n",
      "13         173           7     No  \n",
      "14         162           7     No  \n",
      "16         168           7    Yes  \n",
      "17         160       Three     No  \n",
      "19         171       Three     No  \n",
      "111        146           7    Yes  \n",
      "121        150           7    Yes  \n",
      "131        147           7     No  \n",
      "141        164       Three     No  \n",
      "151        178           7     No  \n",
      "171        112           7    Yes  \n",
      "181        166           7    Yes  \n",
      "201        159       Three     No  \n"
     ]
    }
   ],
   "source": [
    "#Kiểm tra dựa trên ID\n",
    "print(data[data['id'].duplicated(keep=False)])"
   ]
  },
  {
   "cell_type": "code",
   "execution_count": 411,
   "id": "9efc5e70-6d80-4922-8d9c-a666df3d5a11",
   "metadata": {},
   "outputs": [],
   "source": [
    "data.loc[10,'id'] = 'Patient_11'\n",
    "data.loc[11,'id'] = 'Patient_12'\n",
    "data.loc[12,'id'] = 'Patient_13'\n",
    "data.loc[13,'id'] = 'Patient_14'\n",
    "data.loc[14,'id'] = 'Patient_15'\n",
    "data.loc[16,'id'] = 'Patient_17'\n",
    "data.loc[17,'id'] = 'Patient_18'\n",
    "data.loc[19,'id'] = 'Patient_20'\n",
    "data.loc[10,'id'] = 'Patient_11'"
   ]
  },
  {
   "cell_type": "code",
   "execution_count": 412,
   "id": "79a7b16d-e637-4a2c-9239-23ae0dfc6abc",
   "metadata": {},
   "outputs": [
    {
     "name": "stdout",
     "output_type": "stream",
     "text": [
      "<class 'pandas.core.frame.DataFrame'>\n",
      "Index: 300 entries, 0 to 301\n",
      "Data columns (total 9 columns):\n",
      " #   Column          Non-Null Count  Dtype \n",
      "---  ------          --------------  ----- \n",
      " 0   id              300 non-null    object\n",
      " 1   Age             300 non-null    int64 \n",
      " 2   Gender          300 non-null    object\n",
      " 3   Type            295 non-null    object\n",
      " 4   Blood_pressure  300 non-null    int64 \n",
      " 5   Cholesterol     300 non-null    int64 \n",
      " 6   Heartbeat       300 non-null    int64 \n",
      " 7   Thalassemia     300 non-null    object\n",
      " 8   Result          300 non-null    object\n",
      "dtypes: int64(4), object(5)\n",
      "memory usage: 31.5+ KB\n"
     ]
    }
   ],
   "source": [
    "data.info()"
   ]
  },
  {
   "cell_type": "code",
   "execution_count": 413,
   "id": "c60b7900-4afb-46fc-8a61-99eb9d5a6681",
   "metadata": {},
   "outputs": [
    {
     "name": "stdout",
     "output_type": "stream",
     "text": [
      "0\n"
     ]
    }
   ],
   "source": [
    "print(data.duplicated().sum())"
   ]
  },
  {
   "cell_type": "markdown",
   "id": "20e67275-c34c-431d-9173-3563827207ce",
   "metadata": {},
   "source": [
    "# 2. Xử lý dữ liệu ngoại lai"
   ]
  },
  {
   "cell_type": "code",
   "execution_count": 415,
   "id": "9b184b00-8a9d-40a4-b04b-e1d6a8352ca6",
   "metadata": {},
   "outputs": [
    {
     "name": "stdout",
     "output_type": "stream",
     "text": [
      "            id  Age  Gender             Type  Blood_pressure  Cholesterol  \\\n",
      "42  Patient_43  710  Female  Atypical angina             160          302   \n",
      "\n",
      "    Heartbeat Thalassemia Result  \n",
      "42        162       Three     No  \n"
     ]
    }
   ],
   "source": [
    "#Lọc các bệnh nhân có dữ liệu tuổi bất thường\n",
    "print(data[data['Age']>=115])"
   ]
  },
  {
   "cell_type": "code",
   "execution_count": 416,
   "id": "e7a6e479-b0fe-4dc5-a56a-20464c7b93b1",
   "metadata": {},
   "outputs": [],
   "source": [
    "#Có thể trong quá trình nhập đã bị nhập thừa 1 số 0 --> xử lý: thay thế 710 bằng 71\n",
    "data.loc[42,'Age'] = 71"
   ]
  },
  {
   "cell_type": "code",
   "execution_count": 417,
   "id": "0642a131-8c1f-474f-8661-d614e357e3e4",
   "metadata": {},
   "outputs": [
    {
     "name": "stdout",
     "output_type": "stream",
     "text": [
      "            id  Age  Gender             Type  Blood_pressure  Cholesterol  \\\n",
      "42  Patient_43   71  Female  Atypical angina             160          302   \n",
      "\n",
      "    Heartbeat Thalassemia Result  \n",
      "42        162       Three     No  \n"
     ]
    }
   ],
   "source": [
    "#Kiểm tra lại\n",
    "print(data[data['id']=='Patient_43'])"
   ]
  },
  {
   "cell_type": "markdown",
   "id": "88dbae79-e870-4ec1-83b1-84772535ae28",
   "metadata": {},
   "source": [
    "# 3. Xử lý dữ liệu missing"
   ]
  },
  {
   "cell_type": "code",
   "execution_count": 419,
   "id": "e9bc47c0-5ce1-4484-ba1c-8fc0486cca26",
   "metadata": {},
   "outputs": [
    {
     "name": "stdout",
     "output_type": "stream",
     "text": [
      "id                0\n",
      "Age               0\n",
      "Gender            0\n",
      "Type              5\n",
      "Blood_pressure    0\n",
      "Cholesterol       0\n",
      "Heartbeat         0\n",
      "Thalassemia       0\n",
      "Result            0\n",
      "dtype: int64\n"
     ]
    }
   ],
   "source": [
    "#Liệt kê các bản ghi bị thiếu \n",
    "print(data.isnull().sum())"
   ]
  },
  {
   "cell_type": "code",
   "execution_count": 420,
   "id": "8a0b9989-7330-4d19-b860-26fb54d0ea14",
   "metadata": {},
   "outputs": [
    {
     "name": "stdout",
     "output_type": "stream",
     "text": [
      "Type\n",
      "Asymptomatic        139\n",
      "Non-anginal pain     84\n",
      "Atypical angina      49\n",
      "Typical angina       23\n",
      "Name: count, dtype: int64\n"
     ]
    }
   ],
   "source": [
    "#Thống kê giá trị của thuộc tính Type\n",
    "print(data['Type'].value_counts())"
   ]
  },
  {
   "cell_type": "code",
   "execution_count": 421,
   "id": "32e4ef4d-4f1c-434e-b3bb-c960f35c1bfe",
   "metadata": {},
   "outputs": [
    {
     "name": "stdout",
     "output_type": "stream",
     "text": [
      "              id  Age Gender Type  Blood_pressure  Cholesterol  Heartbeat  \\\n",
      "207  Patient_206   58   Male  NaN             128          259        130   \n",
      "220  Patient_219   59   Male  NaN             138          271        182   \n",
      "252  Patient_251   58   Male  NaN             146          218        105   \n",
      "272  Patient_271   66   Male  NaN             160          228        138   \n",
      "294  Patient_293   63   Male  NaN             140          187        144   \n",
      "\n",
      "    Thalassemia Result  \n",
      "207           7    Yes  \n",
      "220       Three     No  \n",
      "252           7    Yes  \n",
      "272           6     No  \n",
      "294           7    Yes  \n"
     ]
    }
   ],
   "source": [
    "#Liệt kê các dòng dữ liệu chứa missing của thuộc tính Type\n",
    "print(data.loc[data[['Type']].isnull().any(axis=1)])"
   ]
  },
  {
   "cell_type": "markdown",
   "id": "d8eccd96-5f6f-4783-8fd0-a4e74838bba3",
   "metadata": {},
   "source": [
    "Nhận xét: Thuộc tính Type có giá trị Asymptomatic được lặp lại nhiều nhất --> thay thế các giá tri bị thiếu bằng Asymptomatic"
   ]
  },
  {
   "cell_type": "code",
   "execution_count": 423,
   "id": "67b70a7c-8270-4dd1-95f5-00e0abd07614",
   "metadata": {},
   "outputs": [],
   "source": [
    "data['Type'].fillna('Asymptomatic', inplace=True)"
   ]
  },
  {
   "cell_type": "code",
   "execution_count": 424,
   "id": "bf10efdc-8216-4fa3-b081-ca38b921853e",
   "metadata": {},
   "outputs": [
    {
     "name": "stdout",
     "output_type": "stream",
     "text": [
      "id                0\n",
      "Age               0\n",
      "Gender            0\n",
      "Type              0\n",
      "Blood_pressure    0\n",
      "Cholesterol       0\n",
      "Heartbeat         0\n",
      "Thalassemia       0\n",
      "Result            0\n",
      "dtype: int64\n"
     ]
    }
   ],
   "source": [
    "#Kiểm tra lại\n",
    "print(data.isnull().sum())"
   ]
  },
  {
   "cell_type": "markdown",
   "id": "5c628a2c-11d8-43d7-87ce-8ebe8b0de49f",
   "metadata": {},
   "source": [
    "# 4. Chuẩn hóa dữ liệu"
   ]
  },
  {
   "cell_type": "code",
   "execution_count": 426,
   "id": "11a5cf59-bcec-412f-88fa-45942c3b389e",
   "metadata": {},
   "outputs": [
    {
     "name": "stdout",
     "output_type": "stream",
     "text": [
      "Gender\n",
      "Male      203\n",
      "Female     93\n",
      "F           2\n",
      "M           2\n",
      "Name: count, dtype: int64\n"
     ]
    }
   ],
   "source": [
    "#Thống kê thuộc tính Gender\n",
    "print(data['Gender'].value_counts())"
   ]
  },
  {
   "cell_type": "code",
   "execution_count": 427,
   "id": "f161ce2b-fd0e-447c-a291-347c55080892",
   "metadata": {},
   "outputs": [],
   "source": [
    "#Xử lý: Thay thế F = Female, M = Male\n",
    "data.loc[data['Gender']=='M','Gender'] = 'Male'\n",
    "data.loc[data['Gender']=='F', 'Gender'] = 'Female'"
   ]
  },
  {
   "cell_type": "code",
   "execution_count": 428,
   "id": "68c860a7-a3b4-409b-8457-ad9acea778e3",
   "metadata": {},
   "outputs": [
    {
     "name": "stdout",
     "output_type": "stream",
     "text": [
      "Gender\n",
      "Male      205\n",
      "Female     95\n",
      "Name: count, dtype: int64\n"
     ]
    }
   ],
   "source": [
    "#Kiểm tra lại\n",
    "print(data['Gender'].value_counts())"
   ]
  },
  {
   "cell_type": "code",
   "execution_count": 429,
   "id": "12cf4887-52ed-41d6-b2fd-f17256a6b496",
   "metadata": {},
   "outputs": [
    {
     "name": "stdout",
     "output_type": "stream",
     "text": [
      "Thalassemia\n",
      "Three    158\n",
      "7        117\n",
      "6         25\n",
      "Name: count, dtype: int64\n"
     ]
    }
   ],
   "source": [
    "#Thống kê thuộc tính Thalassemia\n",
    "print(data['Thalassemia'].value_counts())"
   ]
  },
  {
   "cell_type": "code",
   "execution_count": 430,
   "id": "60a898ed-e187-43d1-aab9-fb7e32d03062",
   "metadata": {},
   "outputs": [],
   "source": [
    "#Xử lý: Thay thế Three bằng 3\n",
    "data.loc[data['Thalassemia']=='Three','Thalassemia'] = 3"
   ]
  },
  {
   "cell_type": "code",
   "execution_count": 431,
   "id": "09f6562d-7ff7-4b2b-8b4e-ff226396e1b7",
   "metadata": {},
   "outputs": [
    {
     "name": "stdout",
     "output_type": "stream",
     "text": [
      "Thalassemia\n",
      "3    158\n",
      "7    117\n",
      "6     25\n",
      "Name: count, dtype: int64\n"
     ]
    }
   ],
   "source": [
    "#Kiểm tra lại\n",
    "print(data['Thalassemia'].value_counts())"
   ]
  },
  {
   "cell_type": "markdown",
   "id": "59b936bc-b0c9-46f0-a925-451ba0529e21",
   "metadata": {},
   "source": [
    "# Quan sát lại dữ liệu sau khi đã xử lý"
   ]
  },
  {
   "cell_type": "code",
   "execution_count": 433,
   "id": "df31cdff-cc71-4a8d-b1f7-59b1d23f7eca",
   "metadata": {},
   "outputs": [
    {
     "name": "stdout",
     "output_type": "stream",
     "text": [
      "              Age  Blood_pressure  Cholesterol   Heartbeat\n",
      "count  300.000000      300.000000   300.000000  300.000000\n",
      "mean    54.490000      131.686667   247.070000  149.030000\n",
      "std      9.032267       17.682498    51.835136   24.389587\n",
      "min     29.000000       94.000000   126.000000    0.000000\n",
      "25%     48.000000      120.000000   211.000000  133.000000\n",
      "50%     56.000000      130.000000   242.500000  152.000000\n",
      "75%     61.000000      140.000000   275.250000  165.250000\n",
      "max     77.000000      200.000000   564.000000  202.000000\n"
     ]
    }
   ],
   "source": [
    "print(data.describe())"
   ]
  },
  {
   "cell_type": "code",
   "execution_count": 434,
   "id": "fa942445-773b-404b-b6ff-8b5fe386bc16",
   "metadata": {},
   "outputs": [
    {
     "name": "stdout",
     "output_type": "stream",
     "text": [
      "                id Gender          Type  Thalassemia Result\n",
      "count          300    300           300          300    300\n",
      "unique         300      2             4            3      2\n",
      "top     Patient_01   Male  Asymptomatic            3     No\n",
      "freq             1    205           144          158    162\n"
     ]
    }
   ],
   "source": [
    "print(data.describe(include='O'))"
   ]
  },
  {
   "cell_type": "code",
   "execution_count": null,
   "id": "83ea3cfa-5527-47d0-be4c-e4878f65cde8",
   "metadata": {},
   "outputs": [],
   "source": []
  },
  {
   "cell_type": "markdown",
   "id": "5d27c653-4bd6-4043-941c-c80dd20960f0",
   "metadata": {},
   "source": [
    "# Lưu ra file .excel(xlsx)"
   ]
  },
  {
   "cell_type": "code",
   "execution_count": 436,
   "id": "7a522a85-a0af-452f-bfc9-1efbdc4b51e6",
   "metadata": {},
   "outputs": [],
   "source": [
    "data.to_excel('Data_Patient_Heart_Attack_OK.xlsx', index=None)"
   ]
  },
  {
   "cell_type": "code",
   "execution_count": null,
   "id": "85962960-04fc-441c-9adf-054e3e71b58f",
   "metadata": {},
   "outputs": [],
   "source": []
  }
 ],
 "metadata": {
  "kernelspec": {
   "display_name": "Python [conda env:base] *",
   "language": "python",
   "name": "conda-base-py"
  },
  "language_info": {
   "codemirror_mode": {
    "name": "ipython",
    "version": 3
   },
   "file_extension": ".py",
   "mimetype": "text/x-python",
   "name": "python",
   "nbconvert_exporter": "python",
   "pygments_lexer": "ipython3",
   "version": "3.12.7"
  }
 },
 "nbformat": 4,
 "nbformat_minor": 5
}
